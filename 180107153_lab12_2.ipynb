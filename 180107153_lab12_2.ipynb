{
 "metadata": {
  "language_info": {
   "codemirror_mode": {
    "name": "ipython",
    "version": 3
   },
   "file_extension": ".py",
   "mimetype": "text/x-python",
   "name": "python",
   "nbconvert_exporter": "python",
   "pygments_lexer": "ipython3",
   "version": "3.8.3-final"
  },
  "orig_nbformat": 2,
  "kernelspec": {
   "name": "python3",
   "display_name": "Python 3.8.3 64-bit (conda)",
   "metadata": {
    "interpreter": {
     "hash": "8fac594bfae6525c0c41b4041d2d72effa188cc8ead05f81b1fab2bb098927fb"
    }
   }
  }
 },
 "nbformat": 4,
 "nbformat_minor": 2,
 "cells": [
  {
   "source": [
    "Name: Temirbekova Dilnaz"
   ],
   "cell_type": "markdown",
   "metadata": {}
  },
  {
   "source": [
    "Task: Tanimoto score.<br> \n",
    "\"Find out what a Tanimoto similarity score is. In what cases\n",
    "could this be used as the similarity metric instead of Euclidean distance or\n",
    "Pearson coefficient? Create a new similarity function using the Tanimoto score.\""
   ],
   "cell_type": "markdown",
   "metadata": {}
  },
  {
   "cell_type": "code",
   "execution_count": 1,
   "metadata": {},
   "outputs": [],
   "source": [
    "import math\n",
    "import numpy as np\n",
    "import hashlib\n",
    "from scipy.stats import pearsonr "
   ]
  },
  {
   "cell_type": "code",
   "execution_count": 2,
   "metadata": {},
   "outputs": [],
   "source": [
    "class Similarity:\n",
    "    def __init__(self, minimum):\n",
    "        self.e = minimum\n",
    "        self.vector_operators = VectorOperations()\n",
    "\n",
    "    def square_euclidean_distance(self, p_vec, q_vec):\n",
    "        diff = p_vec - q_vec\n",
    "        return max(np.sum(diff**2), self.e)\n",
    "\n",
    "    def euclidean_distance(self, p_vec, q_vec):\n",
    "        return max(math.sqrt(self.square_euclidean_distance(p_vec, q_vec)), self.e)\n",
    "\n",
    "    def tanimoto_score(self, p_vec, q_vec):\n",
    "        N = len(p_vec)\n",
    "        assert N == len(q_vec)\n",
    "        v1v2, v1v1, v2v2 = 0., 0., 0.\n",
    "        for i in range(N):\n",
    "            v1v2 += p_vec[i] * q_vec[i]\n",
    "            v1v1 += p_vec[i] * p_vec[i]\n",
    "            v2v2 += q_vec[i] * q_vec[i]\n",
    "\n",
    "        return v1v2 / (v1v1 + v2v2 - v1v2)\n",
    "\n",
    "    def pearson_coefficient(self, p_vec, q_vec):\n",
    "        corr, _ =pearsonr(p_vec, q_vec)\n",
    "        return corr\n",
    "\n",
    "    @staticmethod\n",
    "    def get_key(p_vec, q_vec):\n",
    "        return str(hashlib.sha1(p_vec)) + str(hashlib.sha1(q_vec))\n",
    "class VectorOperations():\n",
    "   @staticmethod\n",
    "   def product(p_vec, q_vec):\n",
    "        return p_vec * q_vec\n",
    "\n",
    "   @staticmethod\n",
    "   def square(p_vec):\n",
    "        return p_vec**2\n",
    "\n",
    "   @staticmethod\n",
    "   def norm(p_vec):\n",
    "        return np.sqrt(p_vec)"
   ]
  },
  {
   "cell_type": "code",
   "execution_count": 3,
   "metadata": {},
   "outputs": [
    {
     "output_type": "stream",
     "name": "stdout",
     "text": [
      "[-3.14159265 -2.44346095 -1.74532925 -1.04719755 -0.34906585  0.34906585\n  1.04719755  1.74532925  2.44346095  3.14159265]\n[ 3.14159265  2.44346095  1.74532925  1.04719755  0.34906585 -0.34906585\n -1.04719755 -1.74532925 -2.44346095 -3.14159265]\n"
     ]
    }
   ],
   "source": [
    "v1 = np.linspace(-np.pi, np.pi, 10)\n",
    "v2 = np.linspace(np.pi, -np.pi, 10)\n",
    "print(v1)\n",
    "print(v2)"
   ]
  },
  {
   "cell_type": "code",
   "execution_count": 4,
   "metadata": {},
   "outputs": [
    {
     "output_type": "stream",
     "name": "stdout",
     "text": [
      "12.682192146761622\n-0.33333333333333337\n-1.0\n"
     ]
    }
   ],
   "source": [
    "sim=Similarity(-4)\n",
    "print(sim.euclidean_distance(v1,v2))\n",
    "print(sim.tanimoto_score(v1,v2))\n",
    "print(sim.pearson_coefficient(v1,v2))"
   ]
  }
 ]
}