{
 "cells": [
  {
   "cell_type": "markdown",
   "metadata": {},
   "source": [
    "Import needed libraries:"
   ]
  },
  {
   "cell_type": "code",
   "execution_count": 1,
   "metadata": {},
   "outputs": [],
   "source": [
    "import pandas as pd\n",
    "import numpy as np\n",
    "import matplotlib.pyplot as plt\n",
    "%matplotlib inline"
   ]
  },
  {
   "cell_type": "markdown",
   "metadata": {},
   "source": [
    "read the dataset:"
   ]
  },
  {
   "cell_type": "code",
   "execution_count": 73,
   "metadata": {},
   "outputs": [],
   "source": [
    "data=pd.read_csv(\"student_scores.csv\")\n",
    "data_x=data['Hours'].to_numpy()\n",
    "data_y=data['Scores'].to_numpy()\n",
    "theta=np.array([[0],[0]])\n",
    "data_x=np.reshape(data_x,(data_x.shape[0],1))\n",
    "data_y=np.reshape(data_y,(data_y.shape[0],1))\n",
    "ex_x=data_x\n",
    "one_array=np.full((25,2),1.0)\n",
    "for i in range(25):\n",
    "    one_array[i][1]=data_x[i]\n",
    "data_x=one_array"
   ]
  },
  {
   "cell_type": "markdown",
   "metadata": {},
   "source": [
    "visualize the dataset using scatterplot:"
   ]
  },
  {
   "cell_type": "code",
   "execution_count": 74,
   "metadata": {},
   "outputs": [
    {
     "data": {
      "image/png": "[encoded data removed]",
      "text/plain": [
       "<Figure size 432x288 with 1 Axes>"
      ]
     },
     "metadata": {
      "needs_background": "light"
     },
     "output_type": "display_data"
    }
   ],
   "source": [
    "plt.xlabel('Hours')\n",
    "plt.ylabel('Scores')\n",
    "plt.plot(data['Hours'],data[\"Scores\"],'o',color='green');"
   ]
  },
  {
   "cell_type": "markdown",
   "metadata": {},
   "source": [
    "write a hypothesis function:"
   ]
  },
  {
   "cell_type": "code",
   "execution_count": 75,
   "metadata": {},
   "outputs": [
    {
     "name": "stdout",
     "output_type": "stream",
     "text": [
      "(25, 1)\n"
     ]
    }
   ],
   "source": [
    "def hypothesis(x,theta):\n",
    "    hypothesis=np.dot(x,theta)\n",
    "    return hypothesis\n",
    "print(hypothesis(data_x,theta).shape)"
   ]
  },
  {
   "cell_type": "code",
   "execution_count": 76,
   "metadata": {},
   "outputs": [
    {
     "name": "stdout",
     "output_type": "stream",
     "text": [
      "(1, 1)\n"
     ]
    }
   ],
   "source": [
    "\n",
    "def cost(data_y,data_x,theta,data):\n",
    "    return(1/(2*len(data))*np.dot((np.dot(data_x,theta)-data_y).T,(np.dot(data_x,theta)-data_y)))\n",
    "print(cost(data_y,data_x,theta,data).shape)"
   ]
  },
  {
   "cell_type": "markdown",
   "metadata": {},
   "source": [
    "write a gradient descent function:"
   ]
  },
  {
   "cell_type": "code",
   "execution_count": 77,
   "metadata": {},
   "outputs": [],
   "source": [
    "alpha=0.05"
   ]
  },
  {
   "cell_type": "code",
   "execution_count": 78,
   "metadata": {},
   "outputs": [
    {
     "name": "stdout",
     "output_type": "stream",
     "text": [
      "[[ 0]\n",
      " [10]]\n"
     ]
    }
   ],
   "source": [
    "def gradient(alpha, theta):\n",
    "    for i in range(2000):\n",
    "        theta[0]=theta[0]-alpha*(1/len(data)*np.sum(hypothesis(data_x,theta)-data_y))\n",
    "        theta[1]=theta[1]-alpha*(1/len(data)*np.sum((hypothesis(data_x,theta)-data_y)*ex_x))\n",
    "    return theta\n",
    "theta = gradient(alpha, theta)\n",
    "print(theta)"
   ]
  },
  {
   "cell_type": "markdown",
   "metadata": {},
   "source": [
    "visualize the dataset with a hypothesis line"
   ]
  },
  {
   "cell_type": "code",
   "execution_count": 82,
   "metadata": {},
   "outputs": [
    {
     "data": {
      "image/png": "[encoded data removed]",
      "text/plain": [
       "<Figure size 432x288 with 1 Axes>"
      ]
     },
     "metadata": {
      "needs_background": "light"
     },
     "output_type": "display_data"
    }
   ],
   "source": [
    "plt.plot([min(ex_x),max(ex_x)],[min(theta[1]*ex_x+theta[0]),max((theta[1]*ex_x+theta[0]))]);\n",
    "plt.plot(data['Hours'],data[\"Scores\"],'o',color='green');"
   ]
  },
  {
   "cell_type": "code",
   "execution_count": null,
   "metadata": {},
   "outputs": [],
   "source": []
  }
 ],
 "metadata": {
  "kernelspec": {
   "display_name": "Python 3.8.3 64-bit ('base': conda)",
   "language": "python",
   "name": "python_defaultSpec_1600237672650"
  },
  "language_info": {
   "codemirror_mode": {
    "name": "ipython",
    "version": 3
   },
   "file_extension": ".py",
   "mimetype": "text/x-python",
   "name": "python",
   "nbconvert_exporter": "python",
   "pygments_lexer": "ipython3",
   "version": "3.8.3-final"
  }
 },
 "nbformat": 4,
 "nbformat_minor": 2
}