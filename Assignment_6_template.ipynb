{
  "nbformat": 4,
  "nbformat_minor": 0,
  "metadata": {
    "kernelspec": {
      "name": "Python 3.8.3 64-bit ('base': conda)",
      "display_name": "Python 3.8.3 64-bit ('base': conda)",
      "metadata": {
        "interpreter": {
          "hash": "8fac594bfae6525c0c41b4041d2d72effa188cc8ead05f81b1fab2bb098927fb"
        }
      }
    },
    "language_info": {
      "codemirror_mode": {
        "name": "ipython",
        "version": 3
      },
      "file_extension": ".py",
      "mimetype": "text/x-python",
      "name": "python",
      "nbconvert_exporter": "python",
      "pygments_lexer": "ipython3",
      "version": "3.8.3-final"
    },
    "colab": {
      "name": "Assignment 6 template.ipynb",
      "provenance": [],
      "collapsed_sections": []
    }
  },
  "cells": [
    {
      "cell_type": "code",
      "metadata": {
        "id": "ACEPIDl7kknF"
      },
      "source": [
        "Name: Dilnaz Temirbekova 180107153"
      ],
      "execution_count": null,
      "outputs": []
    },
    {
      "cell_type": "markdown",
      "metadata": {
        "id": "A5rBaeR1kdeK"
      },
      "source": [
        "## import needed libraries\n"
      ]
    },
    {
      "cell_type": "code",
      "metadata": {
        "id": "ME2oiKQZkdeO"
      },
      "source": [
        "import numpy as np\n",
        "import pandas as pd\n",
        "from sklearn import preprocessing\n",
        "from sklearn.model_selection import train_test_split\n",
        "from sklearn.tree import DecisionTreeClassifier\n",
        "from sklearn.metrics import accuracy_score\n",
        "import sklearn.model_selection as model_selection"
      ],
      "execution_count": 1,
      "outputs": []
    },
    {
      "cell_type": "markdown",
      "metadata": {
        "id": "dZPaV-EBkdeb"
      },
      "source": [
        "## read the car.data"
      ]
    },
    {
      "cell_type": "code",
      "metadata": {
        "scrolled": true,
        "id": "xs7zzX2Nkdeh",
        "outputId": "37cefb30-ea88-44d8-8168-65517cef92be",
        "tags": []
      },
      "source": [
        "data = pd.read_csv(\"./car.data\", sep = ',', header = None)\n",
        "print(data)"
      ],
      "execution_count": 2,
      "outputs": [
        {
          "output_type": "stream",
          "name": "stdout",
          "text": [
            "          0      1      2     3      4     5      6\n0     vhigh  vhigh      2     2  small   low  unacc\n1     vhigh  vhigh      2     2  small   med  unacc\n2     vhigh  vhigh      2     2  small  high  unacc\n3     vhigh  vhigh      2     2    med   low  unacc\n4     vhigh  vhigh      2     2    med   med  unacc\n...     ...    ...    ...   ...    ...   ...    ...\n1723    low    low  5more  more    med   med   good\n1724    low    low  5more  more    med  high  vgood\n1725    low    low  5more  more    big   low  unacc\n1726    low    low  5more  more    big   med   good\n1727    low    low  5more  more    big  high  vgood\n\n[1728 rows x 7 columns]\n"
          ]
        }
      ]
    },
    {
      "cell_type": "markdown",
      "metadata": {
        "id": "f0up3436kdeu"
      },
      "source": [
        "\n",
        "## do the preprocessing"
      ]
    },
    {
      "cell_type": "code",
      "metadata": {
        "id": "HYympXExkdey"
      },
      "source": [
        "label_encoding = preprocessing.LabelEncoder()\n",
        "data = data.apply(label_encoding.fit_transform)\n",
        "print(data)"
      ],
      "execution_count": 3,
      "outputs": [
        {
          "output_type": "stream",
          "name": "stdout",
          "text": [
            "      0  1  2  3  4  5  6\n0     3  3  0  0  2  1  2\n1     3  3  0  0  2  2  2\n2     3  3  0  0  2  0  2\n3     3  3  0  0  1  1  2\n4     3  3  0  0  1  2  2\n...  .. .. .. .. .. .. ..\n1723  1  1  3  2  1  2  1\n1724  1  1  3  2  1  0  3\n1725  1  1  3  2  0  1  2\n1726  1  1  3  2  0  2  1\n1727  1  1  3  2  0  0  3\n\n[1728 rows x 7 columns]\n"
          ]
        }
      ]
    },
    {
      "cell_type": "code",
      "execution_count": 4,
      "metadata": {},
      "outputs": [
        {
          "output_type": "stream",
          "name": "stdout",
          "text": [
            "(1728, 5)\n(1728,)\n[[3 3 0 0 2]\n [3 3 0 0 2]\n [3 3 0 0 2]\n ...\n [1 1 3 2 0]\n [1 1 3 2 0]\n [1 1 3 2 0]]\n[2 2 2 ... 2 1 3]\n"
          ]
        }
      ],
      "source": [
        "x = data.values[:, 0:5]\n",
        "y = data.values[:, 6]\n",
        "print(x.shape)\n",
        "print(y.shape)\n",
        "print(x)\n",
        "print(y)"
      ]
    },
    {
      "cell_type": "markdown",
      "metadata": {
        "id": "pu-tGoXvkdfE"
      },
      "source": [
        "\n",
        "## Apply Decision Tree Algorithm\n",
        "You can use sklearn\n",
        "As usual, divide the dataset for train and test"
      ]
    },
    {
      "cell_type": "code",
      "metadata": {
        "id": "Uh8X7gX4kdfG"
      },
      "source": [
        "x_train, x_test, y_train, y_test = model_selection.train_test_split(data[[0,1,2,3,4,5]], data[[6]], test_size = 0.5)\n",
        "print(x_train.shape, x_test.shape, y_train.shape, y_test.shape)"
      ],
      "execution_count": 5,
      "outputs": [
        {
          "output_type": "stream",
          "name": "stdout",
          "text": [
            "(864, 6) (864, 6) (864, 1) (864, 1)\n"
          ]
        }
      ]
    },
    {
      "cell_type": "code",
      "metadata": {
        "id": "G59Zg6vVkdfQ",
        "outputId": "d731d617-0d2e-4617-e684-59c838faf6d8"
      },
      "source": [
        "tree=DecisionTreeClassifier()\n",
        "tree.fit(x_train, y_train)\n",
        "tree_pred=tree.predict(x_test)\n",
        "acc=accuracy_score(y_test, tree_pred)\n",
        "print(\"Accuracy is about \", acc*100,\"%\")"
      ],
      "execution_count": 6,
      "outputs": [
        {
          "output_type": "stream",
          "name": "stdout",
          "text": [
            "Accuracy is about  97.91666666666666 %\n"
          ]
        }
      ]
    },
    {
      "cell_type": "markdown",
      "metadata": {
        "id": "aui1VfmFkdfZ"
      },
      "source": [
        "## Write your own function for f1-score"
      ]
    },
    {
      "cell_type": "code",
      "execution_count": 7,
      "metadata": {},
      "outputs": [
        {
          "output_type": "stream",
          "name": "stdout",
          "text": [
            "F1 score is about:  90.14084507042254 %\n"
          ]
        }
      ],
      "source": [
        "def precision(y_test, y_pred):\n",
        "    tp = sum((y_test == 1) & (y_pred == 1))\n",
        "    fp = sum((y_test == 0) & (y_pred == 1))\n",
        "    p=tp / (tp + fp)\n",
        "    return p\n",
        "def recall(y_test, y_pred):\n",
        "    tp = sum((y_test == 1)&(y_pred == 1))\n",
        "    fn = sum((y_test == 1)&(y_pred == 0))\n",
        "    r=tp / (fn + tp)\n",
        "    return r\n",
        "def f1(y_test, y_pred):\n",
        "    p=precision(y_test, y_pred)\n",
        "    r=recall(y_test, y_pred)\n",
        "    score=2*((p * r) / (p+r))\n",
        "    return score\n",
        "y_test=np.array(y_test)\n",
        "f1=f1(y_test.flatten(), tree_pred.flatten())\n",
        "print(\"F1 score is about: \", f1*100,\"%\")"
      ]
    },
    {
      "cell_type": "code",
      "execution_count": null,
      "metadata": {},
      "outputs": [],
      "source": []
    }
  ]
}