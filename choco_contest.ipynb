{
 "metadata": {
  "language_info": {
   "codemirror_mode": {
    "name": "ipython",
    "version": 3
   },
   "file_extension": ".py",
   "mimetype": "text/x-python",
   "name": "python",
   "nbconvert_exporter": "python",
   "pygments_lexer": "ipython3",
   "version": "3.8.3-final"
  },
  "orig_nbformat": 2,
  "kernelspec": {
   "name": "python3",
   "display_name": "Python 3.8.3 64-bit (conda)",
   "metadata": {
    "interpreter": {
     "hash": "8fac594bfae6525c0c41b4041d2d72effa188cc8ead05f81b1fab2bb098927fb"
    }
   }
  }
 },
 "nbformat": 4,
 "nbformat_minor": 2,
 "cells": [
  {
   "cell_type": "code",
   "execution_count": 21,
   "metadata": {},
   "outputs": [
    {
     "output_type": "execute_result",
     "data": {
      "text/plain": [
       "'aba'"
      ]
     },
     "metadata": {},
     "execution_count": 21
    }
   ],
   "source": [
    "def unificationCaseChocoOnternship(inputString):\n",
    "    down=0\n",
    "    up=0\n",
    "    for i in inputString:\n",
    "        if i.isupper():\n",
    "            up+=1\n",
    "        else:\n",
    "            down+=1\n",
    "    if up>down:\n",
    "        return inputString.upper()\n",
    "    else:\n",
    "        return inputString.lower()\n",
    "unificationCaseChocoOnternship(\"Aba\")"
   ]
  },
  {
   "cell_type": "code",
   "execution_count": 1,
   "metadata": {},
   "outputs": [
    {
     "output_type": "stream",
     "name": "stdout",
     "text": [
      "2319713088000.0\n"
     ]
    }
   ],
   "source": [
    "print((190**4-120/0.3)*1780)"
   ]
  },
  {
   "cell_type": "code",
   "execution_count": 14,
   "metadata": {},
   "outputs": [
    {
     "output_type": "stream",
     "name": "stdout",
     "text": [
      "[['aknr'], ['aknr'], ['f'], ['s']]\n[0, 0]\n"
     ]
    }
   ],
   "source": [
    "def stringAnagram(dictionary, query):\n",
    "    # Write your code here\n",
    "    q=[]\n",
    "    dicto=[]\n",
    "    for dic in dictionary:\n",
    "        d=list(dic)\n",
    "        d.sort()\n",
    "        dic=\"\".join(d)\n",
    "        if dic in dicto:\n",
    "            dicto[dicto.index(dic)].append(dic)\n",
    "            print(dic)\n",
    "        else:\n",
    "            dicto.append(dic)\n",
    "    print(dicto)\n",
    "    for words in query:\n",
    "        count=0\n",
    "        w=list(words)\n",
    "        w.sort()\n",
    "        word=\"\".join(w)\n",
    "        if word in dicto:\n",
    "            count+=len(dicto[dicto.index(word)])\n",
    "        q.append(count)\n",
    "    print(q)\n",
    "stringAnagram(['kran','nrak','f','s'],['a','rank'])"
   ]
  },
  {
   "cell_type": "code",
   "execution_count": 25,
   "metadata": {},
   "outputs": [
    {
     "output_type": "stream",
     "name": "stdout",
     "text": [
      "['5', '1', 'P', 'a', '*', '0', 'L', 'p', '*', '0', 'e']\n5\n1Pa*0Lp*0e\n"
     ]
    }
   ],
   "source": [
    "def decryptPassword(s):\n",
    "    # Write your code here\n",
    "    l=list(s)\n",
    "    print(l)\n",
    "    for sym in l:\n",
    "        if sym.isnumeric() and not sym=='0':\n",
    "            print(sym)\n",
    "            l.remove(sym)\n",
    "            #l[l.index(str(0))]=sym\n",
    "    print( \"\".join(l))\n",
    "decryptPassword('51Pa*0Lp*0e')"
   ]
  },
  {
   "cell_type": "code",
   "execution_count": 25,
   "metadata": {},
   "outputs": [
    {
     "output_type": "stream",
     "name": "stdout",
     "text": [
      "64\n"
     ]
    }
   ],
   "source": [
    "n=3\n",
    "print(int(2**(((n+1)/2)*n)))"
   ]
  },
  {
   "cell_type": "code",
   "execution_count": 33,
   "metadata": {},
   "outputs": [
    {
     "output_type": "error",
     "ename": "IndexError",
     "evalue": "string index out of range",
     "traceback": [
      "\u001b[1;31m---------------------------------------------------------------------------\u001b[0m",
      "\u001b[1;31mIndexError\u001b[0m                                Traceback (most recent call last)",
      "\u001b[1;32m<ipython-input-33-a3a159e776c5>\u001b[0m in \u001b[0;36m<module>\u001b[1;34m\u001b[0m\n\u001b[0;32m      7\u001b[0m             \u001b[0mtext\u001b[0m\u001b[1;33m=\u001b[0m\u001b[0mtext\u001b[0m\u001b[1;33m[\u001b[0m\u001b[1;33m:\u001b[0m\u001b[0mindex\u001b[0m\u001b[1;33m]\u001b[0m\u001b[1;33m+\u001b[0m\u001b[0mtext\u001b[0m\u001b[1;33m[\u001b[0m\u001b[0mindex\u001b[0m\u001b[1;33m+\u001b[0m\u001b[1;36m2\u001b[0m\u001b[1;33m:\u001b[0m\u001b[1;33m]\u001b[0m\u001b[1;33m\u001b[0m\u001b[1;33m\u001b[0m\u001b[0m\n\u001b[0;32m      8\u001b[0m     \u001b[1;32mreturn\u001b[0m \u001b[0mtext\u001b[0m\u001b[1;33m\u001b[0m\u001b[1;33m\u001b[0m\u001b[0m\n\u001b[1;32m----> 9\u001b[1;33m \u001b[0mStirlitzEncryption\u001b[0m\u001b[1;33m(\u001b[0m\u001b[1;34m\"wwstdaadierfflitzzz\"\u001b[0m\u001b[1;33m)\u001b[0m\u001b[1;33m\u001b[0m\u001b[1;33m\u001b[0m\u001b[0m\n\u001b[0m",
      "\u001b[1;32m<ipython-input-33-a3a159e776c5>\u001b[0m in \u001b[0;36mStirlitzEncryption\u001b[1;34m(text)\u001b[0m\n\u001b[0;32m      3\u001b[0m     \u001b[0ml\u001b[0m\u001b[1;33m=\u001b[0m\u001b[0mlen\u001b[0m\u001b[1;33m(\u001b[0m\u001b[0mtext\u001b[0m\u001b[1;33m)\u001b[0m\u001b[1;33m-\u001b[0m\u001b[1;36m3\u001b[0m\u001b[1;33m\u001b[0m\u001b[1;33m\u001b[0m\u001b[0m\n\u001b[0;32m      4\u001b[0m     \u001b[1;32mfor\u001b[0m \u001b[0mindex\u001b[0m \u001b[1;32min\u001b[0m \u001b[0mrange\u001b[0m\u001b[1;33m(\u001b[0m\u001b[0ml\u001b[0m\u001b[1;33m)\u001b[0m\u001b[1;33m:\u001b[0m\u001b[1;33m\u001b[0m\u001b[1;33m\u001b[0m\u001b[0m\n\u001b[1;32m----> 5\u001b[1;33m         \u001b[1;32mif\u001b[0m \u001b[0mtext\u001b[0m\u001b[1;33m[\u001b[0m\u001b[0mindex\u001b[0m\u001b[1;33m]\u001b[0m\u001b[1;33m==\u001b[0m\u001b[0mtext\u001b[0m\u001b[1;33m[\u001b[0m\u001b[0mindex\u001b[0m\u001b[1;33m+\u001b[0m\u001b[1;36m1\u001b[0m\u001b[1;33m]\u001b[0m\u001b[1;33m:\u001b[0m\u001b[1;33m\u001b[0m\u001b[1;33m\u001b[0m\u001b[0m\n\u001b[0m\u001b[0;32m      6\u001b[0m             \u001b[0ml\u001b[0m\u001b[1;33m-=\u001b[0m\u001b[1;36m2\u001b[0m\u001b[1;33m\u001b[0m\u001b[1;33m\u001b[0m\u001b[0m\n\u001b[0;32m      7\u001b[0m             \u001b[0mtext\u001b[0m\u001b[1;33m=\u001b[0m\u001b[0mtext\u001b[0m\u001b[1;33m[\u001b[0m\u001b[1;33m:\u001b[0m\u001b[0mindex\u001b[0m\u001b[1;33m]\u001b[0m\u001b[1;33m+\u001b[0m\u001b[0mtext\u001b[0m\u001b[1;33m[\u001b[0m\u001b[0mindex\u001b[0m\u001b[1;33m+\u001b[0m\u001b[1;36m2\u001b[0m\u001b[1;33m:\u001b[0m\u001b[1;33m]\u001b[0m\u001b[1;33m\u001b[0m\u001b[1;33m\u001b[0m\u001b[0m\n",
      "\u001b[1;31mIndexError\u001b[0m: string index out of range"
     ]
    }
   ],
   "source": [
    "def StirlitzEncryption(text):\n",
    "    #delete pair of similar symbols\n",
    "    l=len(text)-3\n",
    "    for index in range(l):\n",
    "        if text[index]==text[index+1]:\n",
    "            l-=2\n",
    "            text=text[:index]+text[index+2:]\n",
    "    return text\n",
    "StirlitzEncryption(\"wwstdaadierfflitzzz\")\n"
   ]
  },
  {
   "cell_type": "code",
   "execution_count": 4,
   "metadata": {},
   "outputs": [
    {
     "output_type": "error",
     "ename": "IndexError",
     "evalue": "list index out of range",
     "traceback": [
      "\u001b[1;31m---------------------------------------------------------------------------\u001b[0m",
      "\u001b[1;31mIndexError\u001b[0m                                Traceback (most recent call last)",
      "\u001b[1;32m<ipython-input-4-397b202c2b5b>\u001b[0m in \u001b[0;36m<module>\u001b[1;34m\u001b[0m\n\u001b[0;32m     21\u001b[0m \u001b[1;33m\u001b[0m\u001b[0m\n\u001b[0;32m     22\u001b[0m     \u001b[1;32mreturn\u001b[0m \u001b[1;34m\"\"\u001b[0m\u001b[1;33m.\u001b[0m\u001b[0mjoin\u001b[0m\u001b[1;33m(\u001b[0m\u001b[0marr\u001b[0m\u001b[1;33m)\u001b[0m\u001b[1;33m\u001b[0m\u001b[1;33m\u001b[0m\u001b[0m\n\u001b[1;32m---> 23\u001b[1;33m \u001b[0mStirlitzEncryption\u001b[0m\u001b[1;33m(\u001b[0m\u001b[1;34m\"wwstdaadierfflitzzzfg\"\u001b[0m\u001b[1;33m)\u001b[0m\u001b[1;33m\u001b[0m\u001b[1;33m\u001b[0m\u001b[0m\n\u001b[0m",
      "\u001b[1;32m<ipython-input-4-397b202c2b5b>\u001b[0m in \u001b[0;36mStirlitzEncryption\u001b[1;34m(arg1)\u001b[0m\n\u001b[0;32m      9\u001b[0m     \u001b[1;32mfor\u001b[0m \u001b[0mi\u001b[0m \u001b[1;32min\u001b[0m \u001b[0mrange\u001b[0m\u001b[1;33m(\u001b[0m\u001b[0mlen\u001b[0m\u001b[1;33m(\u001b[0m\u001b[0marr\u001b[0m\u001b[1;33m)\u001b[0m\u001b[1;33m)\u001b[0m\u001b[1;33m:\u001b[0m\u001b[1;33m\u001b[0m\u001b[1;33m\u001b[0m\u001b[0m\n\u001b[0;32m     10\u001b[0m         \u001b[1;32mif\u001b[0m \u001b[0mi\u001b[0m\u001b[1;33m!=\u001b[0m\u001b[0mlen\u001b[0m\u001b[1;33m(\u001b[0m\u001b[0marr\u001b[0m\u001b[1;33m)\u001b[0m\u001b[1;33m-\u001b[0m\u001b[1;36m3\u001b[0m\u001b[1;33m:\u001b[0m\u001b[1;33m\u001b[0m\u001b[1;33m\u001b[0m\u001b[0m\n\u001b[1;32m---> 11\u001b[1;33m             \u001b[1;32mif\u001b[0m \u001b[0marr\u001b[0m\u001b[1;33m[\u001b[0m\u001b[0mi\u001b[0m\u001b[1;33m]\u001b[0m\u001b[1;33m==\u001b[0m\u001b[0marr\u001b[0m\u001b[1;33m[\u001b[0m\u001b[0mi\u001b[0m\u001b[1;33m+\u001b[0m\u001b[1;36m1\u001b[0m\u001b[1;33m]\u001b[0m\u001b[1;33m:\u001b[0m\u001b[1;33m\u001b[0m\u001b[1;33m\u001b[0m\u001b[0m\n\u001b[0m\u001b[0;32m     12\u001b[0m                 \u001b[0marr\u001b[0m\u001b[1;33m.\u001b[0m\u001b[0mremove\u001b[0m\u001b[1;33m(\u001b[0m\u001b[0marr\u001b[0m\u001b[1;33m[\u001b[0m\u001b[0mi\u001b[0m\u001b[1;33m]\u001b[0m\u001b[1;33m)\u001b[0m\u001b[1;33m\u001b[0m\u001b[1;33m\u001b[0m\u001b[0m\n\u001b[0;32m     13\u001b[0m                 \u001b[0marr\u001b[0m\u001b[1;33m.\u001b[0m\u001b[0mremove\u001b[0m\u001b[1;33m(\u001b[0m\u001b[0marr\u001b[0m\u001b[1;33m[\u001b[0m\u001b[0mi\u001b[0m\u001b[1;33m]\u001b[0m\u001b[1;33m)\u001b[0m\u001b[1;33m\u001b[0m\u001b[1;33m\u001b[0m\u001b[0m\n",
      "\u001b[1;31mIndexError\u001b[0m: list index out of range"
     ]
    }
   ],
   "source": [
    "def StirlitzEncryption(arg1):\n",
    "    def split(word): \n",
    "        return list(word)\n",
    "    arr=split(arg1)\n",
    "    l=(len(arr))\n",
    "    p=[]\n",
    "    count=0\n",
    "    i=0\n",
    "    for i in range(len(arr)):\n",
    "        if i!=len(arr)-3:\n",
    "            if arr[i]==arr[i+1]:\n",
    "                arr.remove(arr[i])\n",
    "                arr.remove(arr[i])\n",
    "            i+=1\n",
    "    i=0\n",
    "    while i!=len(arr)-3:\n",
    "        if arr[i]==arr[i+1]:\n",
    "            arr.remove(arr[i])\n",
    "            arr.remove(arr[i])\n",
    "        i+=1\n",
    "    \n",
    "    return \"\".join(arr)\n",
    "StirlitzEncryption(\"wwstdaadierfflitzzzfg\")"
   ]
  },
  {
   "cell_type": "code",
   "execution_count": 37,
   "metadata": {},
   "outputs": [
    {
     "output_type": "error",
     "ename": "NameError",
     "evalue": "name 'arr' is not defined",
     "traceback": [
      "\u001b[1;31m---------------------------------------------------------------------------\u001b[0m",
      "\u001b[1;31mNameError\u001b[0m                                 Traceback (most recent call last)",
      "\u001b[1;32m<ipython-input-37-84e28f718733>\u001b[0m in \u001b[0;36m<module>\u001b[1;34m\u001b[0m\n\u001b[1;32m----> 1\u001b[1;33m \u001b[0mprint\u001b[0m\u001b[1;33m(\u001b[0m\u001b[0marr\u001b[0m\u001b[1;33m[\u001b[0m\u001b[1;33m-\u001b[0m\u001b[1;36m1\u001b[0m\u001b[1;33m]\u001b[0m\u001b[1;33m)\u001b[0m\u001b[1;33m\u001b[0m\u001b[1;33m\u001b[0m\u001b[0m\n\u001b[0m",
      "\u001b[1;31mNameError\u001b[0m: name 'arr' is not defined"
     ]
    }
   ],
   "source": [
    "print(arr[-1])"
   ]
  },
  {
   "cell_type": "code",
   "execution_count": null,
   "metadata": {},
   "outputs": [],
   "source": [
    "list1 = ['g','e','e','k', 's']  \n",
    "return \" \".join(string_input.split()) \n",
    "print(\" \".join(list1)) "
   ]
  },
  {
   "cell_type": "code",
   "execution_count": null,
   "metadata": {},
   "outputs": [],
   "source": [
    "stierlitz"
   ]
  },
  {
   "cell_type": "code",
   "execution_count": null,
   "metadata": {},
   "outputs": [],
   "source": [
    "int BiographySandro(string str) {\n",
    "    // char str[201];\n",
    "    int c = 0;\n",
    "    int cmax = 0;\n",
    "    int index = 0;\n",
    "    int ans = 0;\n",
    "    const char S[7] = {'S','a','n','d','r','o','\\n'};\n",
    "\n",
    "    for(int i=0;i<arg1.size()-5;i++)\n",
    "    {\n",
    "        if(str[i]=='S') c+=2;\n",
    "        if(str[i]=='s') c++;\n",
    "        if(str[i+1]=='a') c+=2;\n",
    "        if(str[i+1]=='A') c++;\n",
    "        if(str[i+2]=='n') c+=2;\n",
    "        if(str[i+2]=='N') c++;\n",
    "        if(str[i+3]=='d') c+=2;\n",
    "        if(str[i+3]=='D') c++;\n",
    "        if(str[i+4]=='r') c+=2;\n",
    "        if(str[i+4]=='R') c++;\n",
    "        if(str[i+5]=='o') c+=2;\n",
    "        if(str[i+5]=='O') c++;\n",
    "\n",
    "        if(c>cmax)\n",
    "        {\n",
    "            cmax = c;\n",
    "            index = i;\n",
    "        }\n",
    "        \n",
    "        c = 0;\n",
    "    }\n",
    "        c = 0;\n",
    "        if((str[index]=='s')||((int(arg1[index])<=90)&&(str[index]!='S'))) c++;\n",
    "        else if(str[index]!='S') c+=2;\n",
    "\n",
    "        if((str[index+1]=='A')||((int(arg1[index+1])>90)&&(str[index+1]!='a'))) c++;\n",
    "        else if(str[index+1]!='a') c+=2;\n",
    "\n",
    "        if((str[index+2]=='N')||((int(arg1[index+2])>90)&&(str[index+2]!='n'))) c++;\n",
    "        else if(str[index+2]!='n') c+=2;\n",
    "\n",
    "        if((str[index+3]=='D')||((int(arg1[index+3])>90)&&(str[index+3]!='d'))) c++;\n",
    "        else if(str[index+3]!='d') c+=2;\n",
    "\n",
    "        if((str[index+4]=='R')||((int(arg1[index+4])>90)&&(str[index+4]!='r'))) c++;\n",
    "        else if(str[index+4]!='r') c+=2;\n",
    "\n",
    "        if((str[index+5]=='O')||((int(arg1[index+5])>90)&&(str[index+5]!='o'))) c++;\n",
    "        else if(str[index+5]!='o') c+=2;\n",
    "        // cout<<c*5<<endl;\n",
    "    return c*5;\n",
    "}"
   ]
  },
  {
   "cell_type": "code",
   "execution_count": 1,
   "metadata": {},
   "outputs": [
    {
     "output_type": "stream",
     "name": "stdout",
     "text": [
      "6\n2\n"
     ]
    },
    {
     "output_type": "execute_result",
     "data": {
      "text/plain": [
       "'6 2'"
      ]
     },
     "metadata": {},
     "execution_count": 1
    }
   ],
   "source": [
    "def OneDimensionalMaze(n, x, elements):\n",
    "    count =0\n",
    "    start=0\n",
    "    for i in range(10):\n",
    "        if start!=x:       \n",
    "            if count in elements:\n",
    "                for i in range(10):\n",
    "                    if start!=x:\n",
    "                        start-=1\n",
    "                        count+=1\n",
    "            else:\n",
    "                start+=1\n",
    "                count+=1\n",
    "    count2 =0\n",
    "    start=0\n",
    "    for i in range(10):\n",
    "        if start!=x:       \n",
    "            if count2 in elements:\n",
    "                for i in range(10):\n",
    "                    if start!=x:\n",
    "                        start+=1\n",
    "                        count2+=1\n",
    "            else:\n",
    "                start-=1\n",
    "                count2+=1\n",
    "    print(count)\n",
    "    print(count2)\n",
    "    s=\"\"\n",
    "    s+=str(count)\n",
    "    s+=\" \"\n",
    "    s+=str(count2)\n",
    "    return s\n",
    "    \n",
    "\n",
    "OneDimensionalMaze(3,-2,[10,-1,2])"
   ]
  }
 ]
}