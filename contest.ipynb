{
 "metadata": {
  "language_info": {
   "codemirror_mode": {
    "name": "ipython",
    "version": 3
   },
   "file_extension": ".py",
   "mimetype": "text/x-python",
   "name": "python",
   "nbconvert_exporter": "python",
   "pygments_lexer": "ipython3",
   "version": "3.8.3-final"
  },
  "orig_nbformat": 2,
  "kernelspec": {
   "name": "python3",
   "display_name": "Python 3.8.3 64-bit (conda)",
   "metadata": {
    "interpreter": {
     "hash": "8fac594bfae6525c0c41b4041d2d72effa188cc8ead05f81b1fab2bb098927fb"
    }
   }
  }
 },
 "nbformat": 4,
 "nbformat_minor": 2,
 "cells": [
  {
   "cell_type": "code",
   "execution_count": 18,
   "metadata": {},
   "outputs": [
    {
     "output_type": "stream",
     "name": "stdout",
     "text": [
      "2187 6561\n"
     ]
    }
   ],
   "source": [
    "s=input().split(\" \")\n",
    "a=int(s[0])\n",
    "b=int(s[1])\n",
    "l=[]\n",
    "if a<2187:\n",
    "    if b>2187:\n",
    "        l.append(2187)\n",
    "if 6561>a:\n",
    "    if 6561<b:\n",
    "        l.append(6561)\n",
    "if len(l)==2:\n",
    "    print(l[0],l[1])\n",
    "elif len(l)==1:\n",
    "    print(l[0])"
   ]
  },
  {
   "cell_type": "code",
   "execution_count": 26,
   "metadata": {},
   "outputs": [
    {
     "output_type": "stream",
     "name": "stdout",
     "text": [
      "4 5 3 5 0 0 0 0 \n"
     ]
    }
   ],
   "source": [
    "s=input().split(\" \")\n",
    "for i in range(len(s)):\n",
    "    s[i]=int(s[i])\n",
    "#print(s)\n",
    "f=[]\n",
    "for num in range(len(s)):\n",
    "    if(s[num]!=0):\n",
    "        f.append(s[num])\n",
    "for i in range(len(f),len(s)):\n",
    "    f.append(0)\n",
    "st=\"\"\n",
    "for i in f:\n",
    "    st+=str(i)\n",
    "    st+=\" \"\n",
    "print(st)"
   ]
  },
  {
   "cell_type": "code",
   "execution_count": 34,
   "metadata": {},
   "outputs": [
    {
     "output_type": "stream",
     "name": "stdout",
     "text": [
      "bdgf\nhsid\n"
     ]
    }
   ],
   "source": [
    "s=input().split(\" \")\n",
    "def isPalindrome(s):\n",
    "    return s == s[::-1]\n",
    "f=[]\n",
    "for word in s:\n",
    "    if(not isPalindrome(word)):\n",
    "        if(word not in f):\n",
    "            f.append(word)\n",
    "f.sort()\n",
    "for i in f:\n",
    "    print(i)"
   ]
  },
  {
   "cell_type": "code",
   "execution_count": 44,
   "metadata": {},
   "outputs": [
    {
     "output_type": "stream",
     "name": "stdout",
     "text": [
      "1 \n"
     ]
    }
   ],
   "source": [
    "s=input().split(\" \")\n",
    "for i in range(len(s)):\n",
    "    s[i]=int(s[i])\n",
    "f=[]\n",
    "for num in range(len(s)):\n",
    "    if((s[num] & (s[num]-1) == 0) and s[num] != 0):\n",
    "        if(s[num] not in f):\n",
    "            f.append(s[num])\n",
    "f.sort()\n",
    "st=\"\"\n",
    "for i in f:\n",
    "    st+=str(i)\n",
    "    st+=\" \"\n",
    "print(st)"
   ]
  },
  {
   "cell_type": "code",
   "execution_count": 15,
   "metadata": {},
   "outputs": [
    {
     "output_type": "stream",
     "name": "stdout",
     "text": [
      "19 17 13 11 7 5 3 2 \n"
     ]
    }
   ],
   "source": [
    "def check(n):\n",
    "    if (n <= 1) : \n",
    "        return False\n",
    "    if (n <= 3) : \n",
    "        return True\n",
    "  \n",
    "    if (n % 2 == 0 or n % 3 == 0) : \n",
    "        return False\n",
    "  \n",
    "    i = 5\n",
    "    while(i * i <= n) : \n",
    "        if (n % i == 0 or n % (i + 2) == 0) : \n",
    "            return False\n",
    "        i = i + 6\n",
    "  \n",
    "    return True\n",
    "   \n",
    "s=input().split(\" \")\n",
    "for i in range(len(s)):\n",
    "    s[i]=int(s[i])\n",
    "#print(s)\n",
    "f=[]\n",
    "for num in range(s[0],s[1]):\n",
    "    if(check(num)):\n",
    "        f.append(num)\n",
    "f.sort(reverse=True)\n",
    "st=\"\"\n",
    "for i in f:\n",
    "    st+=str(i)\n",
    "    st+=\" \"\n",
    "print(st)"
   ]
  },
  {
   "cell_type": "code",
   "execution_count": null,
   "metadata": {},
   "outputs": [],
   "source": [
    "import re\n",
    "\n",
    "def is_anagram(s1, s2):\n",
    "  temp1 = re.sub(\"^\\\\s+|\\\\s+$|\\\\s+\", \"\", s1.lower())\n",
    "  temp2 = re.sub(\"^\\\\s+|\\\\s+$|\\\\s+\", \"\", s2.lower())\n",
    "  if sorted(temp1) == sorted(temp2):\n",
    "    return True\n",
    "  else:\n",
    "    return False\n",
    "s1=input()\n",
    "s2=input()      \n",
    "if is_anagram(s1, s2):\n",
    "    print(\"YES\")\n",
    "else:\n",
    "    print(\"NO\")"
   ]
  },
  {
   "cell_type": "code",
   "execution_count": 29,
   "metadata": {},
   "outputs": [
    {
     "output_type": "stream",
     "name": "stdout",
     "text": [
      "2\n"
     ]
    }
   ],
   "source": [
    "s=input()\n",
    "s=int(s)\n",
    "def reVal(num): \n",
    "  \n",
    "    if (num >= 0 and num <= 9): \n",
    "        return chr(num + ord('0')); \n",
    "    else: \n",
    "        return chr(num - 10 + ord('A')); \n",
    "  \n",
    "# Utility function to reverse a string \n",
    "def strev(str): \n",
    "  \n",
    "    len = len(str); \n",
    "    for i in range(int(len / 2)): \n",
    "        temp = str[i]; \n",
    "        str[i] = str[len - i - 1]; \n",
    "        str[len - i - 1] = temp; \n",
    "def fromDeci(res, base, inputNum): \n",
    "    index = 0\n",
    "    while (inputNum > 0): \n",
    "        res+= reVal(inputNum % base)\n",
    "        inputNum = int(inputNum / base) \n",
    "    res = res[::-1] \n",
    "  \n",
    "    return res \n",
    "inputNum = s \n",
    "base = 7 \n",
    "res = \"\"\n",
    "if s==0:\n",
    "    print(0)\n",
    "else:\n",
    "    print(int(fromDeci(res, base, inputNum)))"
   ]
  },
  {
   "cell_type": "code",
   "execution_count": 30,
   "metadata": {},
   "outputs": [
    {
     "output_type": "stream",
     "name": "stdout",
     "text": [
      "1\n"
     ]
    }
   ],
   "source": [
    "s=input()\n",
    "if s=='SAT' or s=='Saturday':\n",
    "    print(1)\n",
    "if s=='FRI'or s=='Friday':\n",
    "    print(2)\n",
    "if s=='THU'or s=='Thursday':\n",
    "    print(3)\n",
    "if s=='WED'or s=='Wednesday':\n",
    "    print(4)\n",
    "if s=='TUE'or s=='Tuesday':\n",
    "    print(5)\n",
    "if s=='MON'or s=='Monday':\n",
    "    print(6)\n",
    "if s=='SUN'or s=='Sunday':\n",
    "    print(7)\n"
   ]
  },
  {
   "cell_type": "code",
   "execution_count": 38,
   "metadata": {},
   "outputs": [
    {
     "output_type": "stream",
     "name": "stdout",
     "text": [
      "2\n"
     ]
    }
   ],
   "source": [
    "def findKHCF(x,y,k): \n",
    "    small = min(x, y) \n",
    "    count = 1\n",
    "    for i in range(2,small+1):\n",
    "        if (x % i==0 and y % i == 0):\n",
    "            count=count + 1\n",
    "        if (count == k):\n",
    "            return i \n",
    "    return -1\n",
    "\n",
    "s=input().split(\" \")\n",
    "for i in range(len(s)):\n",
    "    s[i]=int(s[i])\n",
    "x = s[0]\n",
    "y = s[1]\n",
    "k = s[2]\n",
    "print(findKHCF(x, y, k)) \n"
   ]
  },
  {
   "cell_type": "code",
   "execution_count": 69,
   "metadata": {},
   "outputs": [
    {
     "output_type": "stream",
     "name": "stdout",
     "text": [
      "1\n"
     ]
    }
   ],
   "source": [
    "s=input().split(\" \")\n",
    "m=int(s[0])\n",
    "n=int(s[1])\n",
    "k=[]\n",
    "for i in range(m):\n",
    "    l=input().split(\" \")\n",
    "    for o in range(len(l)):\n",
    "        l[o]=int(l[o])\n",
    "    k.append(l)\n",
    "sum=[]\n",
    "for i in range(m):\n",
    "    p=0\n",
    "    for j in range(n):\n",
    "        p+=k[i][j]\n",
    "    sum.append(p)\n",
    "#print(k)\n",
    "for s in range(len(sum)):\n",
    "    if sum[s]==max(sum):\n",
    "        print(s+1)\n",
    "        break;"
   ]
  },
  {
   "cell_type": "code",
   "execution_count": 93,
   "metadata": {},
   "outputs": [
    {
     "output_type": "stream",
     "name": "stdout",
     "text": [
      "3\na 2\nb 3\nc 1\n"
     ]
    }
   ],
   "source": [
    "from collections import Counter \n",
    "test_str=input()\n",
    "res =list(Counter(test_str).items())\n",
    "print(len(res))\n",
    "res=y = [a for b in res for a in b]\n",
    "r=[]\n",
    "for i in range(0,len(res),2):\n",
    "    q=[]\n",
    "    q.append(res[i])\n",
    "    q.append(res[i+1])\n",
    "    r.append(q)\n",
    "r.sort()\n",
    "#print(r)\n",
    "for t in r:\n",
    "    s=\"\"\n",
    "    s+=(t[0])\n",
    "    s+=\" \"\n",
    "    s+=str(t[1]) \n",
    "    print(s)\n"
   ]
  },
  {
   "cell_type": "code",
   "execution_count": 94,
   "metadata": {},
   "outputs": [
    {
     "output_type": "stream",
     "name": "stdout",
     "text": [
      "CAN\n"
     ]
    }
   ],
   "source": [
    "s=input().split(\" \")\n",
    "print(s[len(s)-1].upper())"
   ]
  },
  {
   "cell_type": "code",
   "execution_count": 103,
   "metadata": {},
   "outputs": [
    {
     "output_type": "stream",
     "name": "stdout",
     "text": [
      "0 1 2 3 \n1 2 3 4 \n2 3 4 5 \n3 4 5 6 \n"
     ]
    }
   ],
   "source": [
    "s=int(input())\n",
    "arr=[[0 for col in range(s)] for row in range(s)]\n",
    "for i in range(s):\n",
    "    d=\"\"\n",
    "    for j in range(s):\n",
    "        arr[i][j]=j+i\n",
    "        d+=str(arr[i][j])\n",
    "        d+=\" \"\n",
    "    print(d)"
   ]
  },
  {
   "cell_type": "code",
   "execution_count": 113,
   "metadata": {},
   "outputs": [
    {
     "output_type": "stream",
     "name": "stdout",
     "text": [
      "1 1 0 0 \n2 2 3 3 \n"
     ]
    }
   ],
   "source": [
    "s=input().split(\" \")\n",
    "m=int(s[0])\n",
    "n=int(s[1])\n",
    "arr=[[0 for col in range(n)] for row in range(m)]\n",
    "for i in range(int(m/2)):\n",
    "    for j in range(int(n/2)):\n",
    "        arr[i][j]=1\n",
    "for i in range(int(m/2),m):\n",
    "    for j in range(int(n/2)):\n",
    "        arr[i][j]=2\n",
    "for i in range(int(m/2),m):\n",
    "    for j in range(int(n/2),n):\n",
    "        arr[i][j]=3      \n",
    "for i in range(m):\n",
    "    d=\"\"\n",
    "    for j in range(n):\n",
    "        d+=str(arr[i][j])\n",
    "        d+=\" \"\n",
    "    print(d)"
   ]
  },
  {
   "cell_type": "code",
   "execution_count": null,
   "metadata": {},
   "outputs": [],
   "source": [
    "s=input().split(\" \")\n",
    "s.pop()\n",
    "print(s)\n",
    "for i in range(len(s)):\n",
    "    s[i]=int(s[i])\n",
    "f=[]\n",
    "for num in range(len(s)):\n",
    "    if(s[num] in f):\n",
    "        f.remove(s[num])\n",
    "    if(s[num] not in f):\n",
    "        f.append(s[num])\n",
    "    \n",
    "print(f)"
   ]
  },
  {
   "cell_type": "code",
   "execution_count": 116,
   "metadata": {},
   "outputs": [
    {
     "output_type": "stream",
     "name": "stdout",
     "text": [
      "elmnaton\n"
     ]
    }
   ],
   "source": [
    "letter=input()\n",
    "word=input()\n",
    "word=word.replace(letter,\"\")\n",
    "print(word)"
   ]
  },
  {
   "cell_type": "code",
   "execution_count": 117,
   "metadata": {},
   "outputs": [
    {
     "output_type": "stream",
     "name": "stdout",
     "text": [
      "0 0 1 0 1 \n"
     ]
    }
   ],
   "source": [
    "n=int(input())\n",
    "arr=input().split(\" \")\n",
    "for i in range(len(arr)):\n",
    "    arr[i]=int(arr[i])\n",
    "res=[]\n",
    "for i in range(len(arr)):\n",
    "    if arr[i]==max(arr):\n",
    "        res.append(1)\n",
    "    else:\n",
    "        res.append(0)\n",
    "st=\"\"\n",
    "for i in res:\n",
    "    st+=str(i)\n",
    "    st+=\" \"\n",
    "print(st)"
   ]
  },
  {
   "cell_type": "code",
   "execution_count": 7,
   "metadata": {},
   "outputs": [
    {
     "output_type": "error",
     "ename": "ValueError",
     "evalue": "invalid literal for int() with base 10: 'the'",
     "traceback": [
      "\u001b[1;31m---------------------------------------------------------------------------\u001b[0m",
      "\u001b[1;31mValueError\u001b[0m                                Traceback (most recent call last)",
      "\u001b[1;32m<ipython-input-7-ad3bc27d8e9b>\u001b[0m in \u001b[0;36m<module>\u001b[1;34m\u001b[0m\n\u001b[0;32m      1\u001b[0m \u001b[0marr\u001b[0m\u001b[1;33m=\u001b[0m\u001b[0minput\u001b[0m\u001b[1;33m(\u001b[0m\u001b[1;33m)\u001b[0m\u001b[1;33m.\u001b[0m\u001b[0msplit\u001b[0m\u001b[1;33m(\u001b[0m\u001b[1;34m\" \"\u001b[0m\u001b[1;33m)\u001b[0m\u001b[1;33m\u001b[0m\u001b[1;33m\u001b[0m\u001b[0m\n\u001b[0;32m      2\u001b[0m \u001b[1;32mfor\u001b[0m \u001b[0mi\u001b[0m \u001b[1;32min\u001b[0m \u001b[0mrange\u001b[0m\u001b[1;33m(\u001b[0m\u001b[0mlen\u001b[0m\u001b[1;33m(\u001b[0m\u001b[0marr\u001b[0m\u001b[1;33m)\u001b[0m\u001b[1;33m)\u001b[0m\u001b[1;33m:\u001b[0m\u001b[1;33m\u001b[0m\u001b[1;33m\u001b[0m\u001b[0m\n\u001b[1;32m----> 3\u001b[1;33m     \u001b[0marr\u001b[0m\u001b[1;33m[\u001b[0m\u001b[0mi\u001b[0m\u001b[1;33m]\u001b[0m\u001b[1;33m=\u001b[0m\u001b[0mint\u001b[0m\u001b[1;33m(\u001b[0m\u001b[0marr\u001b[0m\u001b[1;33m[\u001b[0m\u001b[0mi\u001b[0m\u001b[1;33m]\u001b[0m\u001b[1;33m)\u001b[0m\u001b[1;33m\u001b[0m\u001b[1;33m\u001b[0m\u001b[0m\n\u001b[0m\u001b[0;32m      4\u001b[0m \u001b[0ma\u001b[0m\u001b[1;33m=\u001b[0m\u001b[0marr\u001b[0m\u001b[1;33m[\u001b[0m\u001b[1;36m0\u001b[0m\u001b[1;33m]\u001b[0m\u001b[1;33m\u001b[0m\u001b[1;33m\u001b[0m\u001b[0m\n\u001b[0;32m      5\u001b[0m \u001b[0mb\u001b[0m\u001b[1;33m=\u001b[0m\u001b[0marr\u001b[0m\u001b[1;33m[\u001b[0m\u001b[1;36m1\u001b[0m\u001b[1;33m]\u001b[0m\u001b[1;33m\u001b[0m\u001b[1;33m\u001b[0m\u001b[0m\n",
      "\u001b[1;31mValueError\u001b[0m: invalid literal for int() with base 10: 'the'"
     ]
    }
   ],
   "source": [
    "arr=input().split(\" \")\n",
    "for i in range(len(arr)):\n",
    "    arr[i]=int(arr[i])\n",
    "a=arr[0]\n",
    "b=arr[1]\n",
    "c=arr[2]\n",
    "d=arr[3]\n",
    "x = (d+c)/(a-c)\n",
    "print(int(x))\n"
   ]
  },
  {
   "cell_type": "code",
   "execution_count": 3,
   "metadata": {},
   "outputs": [
    {
     "output_type": "stream",
     "name": "stdout",
     "text": [
      "9\n"
     ]
    }
   ],
   "source": [
    "arr=input().split(\" \")\n",
    "for i in range(len(arr)):\n",
    "    arr[i]=int(arr[i])\n",
    "res=0\n",
    "count=0\n",
    "while(res!=arr[0]):\n",
    "    res+=arr[1]\n",
    "    res-=arr[2]\n",
    "    count+=1\n",
    "print(count-1)"
   ]
  },
  {
   "cell_type": "code",
   "execution_count": 16,
   "metadata": {},
   "outputs": [
    {
     "output_type": "stream",
     "name": "stdout",
     "text": [
      "[['the', 3], ['name', 1], ['signifies', 1], ['evolutionary', 1], ['nature', 1], ['of', 1], ['changes', 1], ['from', 1], ['c', 1]]\n"
     ]
    }
   ],
   "source": [
    "text = input().split(\" \") \n",
    "d = dict() \n",
    "for word in text:\n",
    "    if word in d:\n",
    "        d[word] = d[word] + 1\n",
    "    else:\n",
    "        d[word]=1\n",
    "res=[]  \n",
    "for key in list(d.keys()):\n",
    "    s=[]\n",
    "    s.append(key)\n",
    "    s.append(d[key])\n",
    "    res.append(s)\n",
    "print(res)\n",
    "res.sort()\n",
    "for i range (len(res)):\n",
    "    k=\"\"\n",
    "    "
   ]
  },
  {
   "cell_type": "code",
   "execution_count": null,
   "metadata": {},
   "outputs": [],
   "source": []
  }
 ]
}