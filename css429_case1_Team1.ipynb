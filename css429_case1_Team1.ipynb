{
 "cells": [
  {
   "cell_type": "markdown",
   "metadata": {},
   "source": [
    "# Case 1 by Banal Team\n",
    "<hr>\n",
    "\n",
    "## Table of Contents\n",
    "\n",
    "* [1 Introcution](#chapter1)\n",
    "    * [1.1 Data Understanding](#section_1_1)\n",
    "    * [1.2 Data Import ](#section_1_2)\n",
    "* [2 Data Preparation](#chapter2)\n",
    "    * [2.1 Data Cleaning](#section_2_1)\n",
    "    * [2.2 Data Statistics](#section_2_2)\n",
    "* [3 Assignment](#chapter3)\n",
    "    * [3.1 Univariate Visualizations](#section_3_1)\n",
    "    * [3.2 Data Relationships](#section_3_2)\n",
    "* [4 Training the Model](#chapter4)\n",
    "    * [4.1 Linear Regression](#section_4_1)\n",
    "    * [4.2 Multiple Linear Regression](#section_4_2)\n",
    "    * [4.3 Linear Regression using statsmodels](#section_4_3)\n",
    "* [5 Model Evaluation with Visualizations](#chapter5)\n",
    "    * [5.1 Regression Plot](#section_5_1)\n",
    "    * [5.2 Residual Plot](#section_5_2)\n",
    "    * [5.3 Distribution Plot](#section_5_3)\n",
    "    \n",
    "---\n",
    "\n",
    "## 0 About the Dataset\n",
    "\n",
    "The dataset is parsed data from the website which contains all of the ads of apartments in Almaty. It containt over 20k ads across 10 variables such as price, rooms, area, street, city, ZHK, type, year, actual_floor, total_floors.\n"
   ]
  },
  {
   "cell_type": "markdown",
   "metadata": {},
   "source": [
    "## 1 Introduction <a class=\"anchor\" id=\"chapter1\"></a>\n",
    "\n",
    "### 1.1 Data Understanding <a class=\"anchor\" id=\"section_1_1\"></a>\n",
    "\n",
    "\n",
    "**Exhibit 1: Variable Description** <a class=\"anchor\" id=\"exhibit1\"></a>\n",
    "* **price** - price of the property in KZT\n",
    "* **rooms** - number of rooms (integer number)\n",
    "* **area** - total area of the property (apartment) in square meters\n",
    "* **street** - street name of the address\n",
    "* **city** - name of the city\n",
    "* **ZHK** - name of the complex \n",
    "* **type** - type of the building\n",
    "* **year** - year of commissioning\n",
    "* **actual_floor** - floor of the apartment\n",
    "* **total_floors** - number of storeys in the building\n",
    "\n",
    "We can classify the various data columns into numerical/categorical attributes:\n",
    "1. Numerical Attributes: price, rooms, area, year, actual_floor, total_floors\n",
    "2. Categorical Attributes: street, city, ZHK, type\n",
    "\n",
    "<hr>"
   ]
  },
  {
   "cell_type": "markdown",
   "metadata": {},
   "source": [
    "### 1.2 Data Import  <a class=\"anchor\" id=\"section_1_2\"></a>\n"
   ]
  },
  {
   "cell_type": "code",
   "execution_count": 1,
   "metadata": {
    "scrolled": true
   },
   "outputs": [
    {
     "data": {
      "text/html": [
       "<div>\n",
       "<style scoped>\n",
       "    .dataframe tbody tr th:only-of-type {\n",
       "        vertical-align: middle;\n",
       "    }\n",
       "\n",
       "    .dataframe tbody tr th {\n",
       "        vertical-align: top;\n",
       "    }\n",
       "\n",
       "    .dataframe thead th {\n",
       "        text-align: right;\n",
       "    }\n",
       "</style>\n",
       "<table border=\"1\" class=\"dataframe\">\n",
       "  <thead>\n",
       "    <tr style=\"text-align: right;\">\n",
       "      <th></th>\n",
       "      <th>price</th>\n",
       "      <th>rooms</th>\n",
       "      <th>area</th>\n",
       "      <th>street</th>\n",
       "      <th>city</th>\n",
       "      <th>ZHK</th>\n",
       "      <th>type</th>\n",
       "      <th>year</th>\n",
       "      <th>actual_floor</th>\n",
       "      <th>total_floors</th>\n",
       "    </tr>\n",
       "  </thead>\n",
       "  <tbody>\n",
       "    <tr>\n",
       "      <th>0</th>\n",
       "      <td>10 500 000</td>\n",
       "      <td>1</td>\n",
       "      <td>36</td>\n",
       "      <td>Яссауи</td>\n",
       "      <td>Алматы</td>\n",
       "      <td>NaN</td>\n",
       "      <td>NaN</td>\n",
       "      <td>NaN</td>\n",
       "      <td>9.0</td>\n",
       "      <td>9.0</td>\n",
       "    </tr>\n",
       "    <tr>\n",
       "      <th>1</th>\n",
       "      <td>40 000 000</td>\n",
       "      <td>3</td>\n",
       "      <td>70</td>\n",
       "      <td>Янушкевича</td>\n",
       "      <td>Алматы</td>\n",
       "      <td>Кок Жер</td>\n",
       "      <td>монолитный</td>\n",
       "      <td>2019.0</td>\n",
       "      <td>10.0</td>\n",
       "      <td>NaN</td>\n",
       "    </tr>\n",
       "    <tr>\n",
       "      <th>2</th>\n",
       "      <td>24 500 000</td>\n",
       "      <td>2</td>\n",
       "      <td>49</td>\n",
       "      <td>Янушкевича</td>\n",
       "      <td>Алматы</td>\n",
       "      <td>Кок Жер</td>\n",
       "      <td>монолитный</td>\n",
       "      <td>2019.0</td>\n",
       "      <td>2.0</td>\n",
       "      <td>10.0</td>\n",
       "    </tr>\n",
       "    <tr>\n",
       "      <th>3</th>\n",
       "      <td>22 500 000</td>\n",
       "      <td>2</td>\n",
       "      <td>48</td>\n",
       "      <td>Янушкевича</td>\n",
       "      <td>Алматы</td>\n",
       "      <td>Кок Жер</td>\n",
       "      <td>монолитный</td>\n",
       "      <td>2019.0</td>\n",
       "      <td>5.0</td>\n",
       "      <td>10.0</td>\n",
       "    </tr>\n",
       "    <tr>\n",
       "      <th>4</th>\n",
       "      <td>35 500 000</td>\n",
       "      <td>3</td>\n",
       "      <td>84</td>\n",
       "      <td>Янушкевича</td>\n",
       "      <td>Алматы</td>\n",
       "      <td>Кок Жер</td>\n",
       "      <td>монолитный</td>\n",
       "      <td>2019.0</td>\n",
       "      <td>8.0</td>\n",
       "      <td>10.0</td>\n",
       "    </tr>\n",
       "  </tbody>\n",
       "</table>\n",
       "</div>"
      ],
      "text/plain": [
       "        price  rooms  area      street    city      ZHK        type    year  \\\n",
       "0  10 500 000      1    36      Яссауи  Алматы      NaN         NaN     NaN   \n",
       "1  40 000 000      3    70  Янушкевича  Алматы  Кок Жер  монолитный  2019.0   \n",
       "2  24 500 000      2    49  Янушкевича  Алматы  Кок Жер  монолитный  2019.0   \n",
       "3  22 500 000      2    48  Янушкевича  Алматы  Кок Жер  монолитный  2019.0   \n",
       "4  35 500 000      3    84  Янушкевича  Алматы  Кок Жер  монолитный  2019.0   \n",
       "\n",
       "   actual_floor  total_floors  \n",
       "0           9.0           9.0  \n",
       "1          10.0           NaN  \n",
       "2           2.0          10.0  \n",
       "3           5.0          10.0  \n",
       "4           8.0          10.0  "
      ]
     },
     "execution_count": 1,
     "metadata": {},
     "output_type": "execute_result"
    }
   ],
   "source": [
    "import pandas as pd\n",
    "\n",
    "data = pd.read_csv('./css429_case1_#1.csv')\n",
    "data.head()"
   ]
  },
  {
   "cell_type": "code",
   "execution_count": 2,
   "metadata": {},
   "outputs": [
    {
     "name": "stdout",
     "output_type": "stream",
     "text": [
      "There are 20001 rows, and 10 columns in the dataset.\n"
     ]
    }
   ],
   "source": [
    "print(\"There are\", data.shape[0], \"rows, and\", data.shape[1], \"columns in the dataset.\")"
   ]
  },
  {
   "cell_type": "markdown",
   "metadata": {},
   "source": [
    "<hr>\n",
    "\n",
    "## 2 Data Preparation <a class=\"anchor\" id=\"chapter2\"></a>\n",
    "\n",
    "### 2.1 Data Cleaning <a class=\"anchor\" id=\"section_2_1\"></a>"
   ]
  },
  {
   "cell_type": "code",
   "execution_count": 3,
   "metadata": {},
   "outputs": [
    {
     "data": {
      "text/plain": [
       "price             int64\n",
       "rooms             int64\n",
       "area              int64\n",
       "street           object\n",
       "city             object\n",
       "ZHK              object\n",
       "type             object\n",
       "year            float64\n",
       "actual_floor    float64\n",
       "total_floors    float64\n",
       "dtype: object"
      ]
     },
     "execution_count": 3,
     "metadata": {},
     "output_type": "execute_result"
    }
   ],
   "source": [
    "# Strip off empty spaces and convert to numeric\n",
    "data.price = data.price.astype(str).str.replace(' ', '')\n",
    "\n",
    "# Convert columns \"price\" and \"year\" into numeric values\n",
    "data['price'] = data['price'].apply(pd.to_numeric)\n",
    "data['year'] = data['year'].apply(pd.to_numeric)\n",
    "data.dtypes"
   ]
  },
  {
   "cell_type": "code",
   "execution_count": 4,
   "metadata": {},
   "outputs": [
    {
     "data": {
      "text/plain": [
       "price               0\n",
       "rooms               0\n",
       "area                0\n",
       "street           8669\n",
       "city                0\n",
       "ZHK             15496\n",
       "type            15455\n",
       "year            15297\n",
       "actual_floor     4205\n",
       "total_floors     4310\n",
       "dtype: int64"
      ]
     },
     "execution_count": 4,
     "metadata": {},
     "output_type": "execute_result"
    }
   ],
   "source": [
    "# Checking the missing values\n",
    "data.isnull().sum()"
   ]
  },
  {
   "cell_type": "markdown",
   "metadata": {},
   "source": [
    "Our data is okay, since the is no null values in price, rooms and area. They are our main columns. We won't drop null rows from other columns because there is a lot of them."
   ]
  },
  {
   "cell_type": "markdown",
   "metadata": {},
   "source": [
    "### 2.2 Data Statistics <a class=\"anchor\" id=\"section_2_2\"></a>"
   ]
  },
  {
   "cell_type": "code",
   "execution_count": 5,
   "metadata": {},
   "outputs": [
    {
     "name": "stdout",
     "output_type": "stream",
     "text": [
      "                 price     rooms      area     year  actual_floor  \\\n",
      "count        20,001.00 20,001.00 20,001.00 4,704.00     15,796.00   \n",
      "mean     35,552,196.49      2.41     71.64 2,013.29          4.73   \n",
      "std      44,323,361.69      1.00     45.90     6.44          3.56   \n",
      "min       2,500,000.00      1.00      9.00 1,955.00          1.00   \n",
      "25%      18,500,000.00      2.00     45.00 2,010.00          2.00   \n",
      "50%      24,999,999.00      2.00     60.00 2,015.00          4.00   \n",
      "75%      37,000,000.00      3.00     80.00 2,018.00          6.00   \n",
      "max   1,290,000,000.00     15.00  1,480.00 2,019.00         33.00   \n",
      "\n",
      "       total_floors  \n",
      "count     15,691.00  \n",
      "mean           7.98  \n",
      "std            4.75  \n",
      "min            1.00  \n",
      "25%            5.00  \n",
      "50%            5.00  \n",
      "75%           10.00  \n",
      "max           35.00  \n"
     ]
    }
   ],
   "source": [
    "# Descriptive stats with applying some formatting for easy reading\n",
    "with pd.option_context('float_format', '{:,.2f}'.format): \n",
    "    print(data.describe())"
   ]
  },
  {
   "cell_type": "markdown",
   "metadata": {},
   "source": [
    "## 3 Assignment <a class=\"anchor\" id=\"chapter3\"></a>\n",
    "\n",
    "\n",
    "### 1<a class=\"anchor\" id=\"section_3_1\"></a>\n"
   ]
  },
  {
   "cell_type": "markdown",
   "metadata": {},
   "source": [
    "Before running any model, pick any two variables and attempt to show an (interesting)\n",
    "relation via visualization. This requires one to formulate a question, and to communicate\n",
    "clearly a conclusion based on data visualization. Ideally this would suggest ways to act on the\n",
    "issue"
   ]
  },
  {
   "cell_type": "code",
   "execution_count": 29,
   "metadata": {},
   "outputs": [
    {
     "data": {
      "text/plain": [
       "Text(1.0, 1.0, 'Relation of Price and Year: ')"
      ]
     },
     "execution_count": 29,
     "metadata": {},
     "output_type": "execute_result"
    },
    {
     "data": {
      "image/png": "[encoded data removed]",
      "text/plain": [
       "<Figure size 432x288 with 1 Axes>"
      ]
     },
     "metadata": {
      "needs_background": "light"
     },
     "output_type": "display_data"
    }
   ],
   "source": [
    "import matplotlib.pyplot as plt\n",
    "plt.plot( 'year', 'price', data=data, linestyle='', marker='o', markersize=0.9)\n",
    "plt.xlabel('Year')\n",
    "plt.ylabel('Price')\n",
    "plt.title('Relation of Price and Year: ', loc='right')"
   ]
  },
  {
   "cell_type": "code",
   "execution_count": null,
   "metadata": {},
   "outputs": [],
   "source": []
  },
  {
   "cell_type": "code",
   "execution_count": 7,
   "metadata": {},
   "outputs": [
    {
     "data": {
      "text/plain": [
       "array([[<matplotlib.axes._subplots.AxesSubplot object at 0x7f2d42e92190>,\n",
       "        <matplotlib.axes._subplots.AxesSubplot object at 0x7f2d42e3d640>],\n",
       "       [<matplotlib.axes._subplots.AxesSubplot object at 0x7f2d42e6bac0>,\n",
       "        <matplotlib.axes._subplots.AxesSubplot object at 0x7f2d42e17f10>],\n",
       "       [<matplotlib.axes._subplots.AxesSubplot object at 0x7f2d42dcf3a0>,\n",
       "        <matplotlib.axes._subplots.AxesSubplot object at 0x7f2d42d7b730>]],\n",
       "      dtype=object)"
      ]
     },
     "execution_count": 7,
     "metadata": {},
     "output_type": "execute_result"
    },
    {
     "data": {
      "image/png": "[encoded data removed]",
      "text/plain": [
       "<Figure size 720x576 with 6 Axes>"
      ]
     },
     "metadata": {
      "needs_background": "light"
     },
     "output_type": "display_data"
    }
   ],
   "source": [
    "numeric_variables = data.select_dtypes(exclude=['object'])\n",
    "numeric_variables.hist(figsize=(10,8), bins=20)"
   ]
  },
  {
   "cell_type": "markdown",
   "metadata": {},
   "source": [
    "On each histogram we can get a few insights:\n",
    "1. Most of the apatments are located >5 floor\n",
    "2. Most of the apatments have small area size\n",
    "3. The most popular apartments have 2 rooms\n",
    "4. Most of the aparments are build starting from 2000s\n",
    "\n",
    "Now, for categorical variables, we will look at their frequency distributions. We will use count plot for this."
   ]
  },
  {
   "cell_type": "code",
   "execution_count": 8,
   "metadata": {},
   "outputs": [
    {
     "data": {
      "text/plain": [
       "<matplotlib.axes._subplots.AxesSubplot at 0x7f2d40673d30>"
      ]
     },
     "execution_count": 8,
     "metadata": {},
     "output_type": "execute_result"
    },
    {
     "data": {
      "image/png": "[encoded data removed]",
      "text/plain": [
       "<Figure size 720x216 with 1 Axes>"
      ]
     },
     "metadata": {
      "needs_background": "light"
     },
     "output_type": "display_data"
    }
   ],
   "source": [
    "import matplotlib.pyplot as plt\n",
    "import seaborn as sns\n",
    "\n",
    "# this allows plots to appear directly in the notebook\n",
    "%matplotlib inline\n",
    "\n",
    "categorical_variables = data.select_dtypes(include=['object'])\n",
    "\n",
    "plt.figure(figsize=(10,3))\n",
    "sns.countplot(data = categorical_variables, x='type', order=categorical_variables.type.value_counts().index)"
   ]
  },
  {
   "cell_type": "code",
   "execution_count": 9,
   "metadata": {},
   "outputs": [
    {
     "data": {
      "text/plain": [
       "<matplotlib.axes._subplots.AxesSubplot at 0x7f2d42a19460>"
      ]
     },
     "execution_count": 9,
     "metadata": {},
     "output_type": "execute_result"
    },
    {
     "data": {
      "image/png": "[encoded data removed]",
      "text/plain": [
       "<Figure size 720x216 with 1 Axes>"
      ]
     },
     "metadata": {
      "needs_background": "light"
     },
     "output_type": "display_data"
    }
   ],
   "source": [
    "plt.figure(figsize=(10,3))\n",
    "sns.countplot(data = categorical_variables, x='city', orient='v')"
   ]
  },
  {
   "cell_type": "code",
   "execution_count": 10,
   "metadata": {
    "scrolled": true
   },
   "outputs": [
    {
     "data": {
      "text/plain": [
       "(array([  0,   1,   2,   3,   4,   5,   6,   7,   8,   9,  10,  11,  12,\n",
       "         13,  14,  15,  16,  17,  18,  19,  20,  21,  22,  23,  24,  25,\n",
       "         26,  27,  28,  29,  30,  31,  32,  33,  34,  35,  36,  37,  38,\n",
       "         39,  40,  41,  42,  43,  44,  45,  46,  47,  48,  49,  50,  51,\n",
       "         52,  53,  54,  55,  56,  57,  58,  59,  60,  61,  62,  63,  64,\n",
       "         65,  66,  67,  68,  69,  70,  71,  72,  73,  74,  75,  76,  77,\n",
       "         78,  79,  80,  81,  82,  83,  84,  85,  86,  87,  88,  89,  90,\n",
       "         91,  92,  93,  94,  95,  96,  97,  98,  99, 100, 101, 102, 103,\n",
       "        104, 105, 106, 107, 108, 109, 110, 111, 112, 113, 114, 115, 116,\n",
       "        117, 118, 119, 120, 121, 122, 123, 124, 125, 126, 127, 128, 129,\n",
       "        130, 131, 132, 133, 134, 135, 136, 137, 138, 139, 140, 141, 142,\n",
       "        143, 144, 145, 146, 147, 148, 149, 150, 151, 152, 153, 154, 155,\n",
       "        156, 157, 158, 159, 160, 161, 162, 163, 164, 165, 166, 167, 168,\n",
       "        169, 170, 171, 172, 173, 174, 175, 176, 177, 178, 179, 180, 181,\n",
       "        182, 183, 184, 185, 186, 187, 188, 189, 190, 191, 192, 193, 194,\n",
       "        195, 196, 197, 198, 199, 200, 201, 202, 203, 204, 205, 206, 207,\n",
       "        208, 209, 210, 211, 212, 213, 214, 215, 216, 217, 218, 219, 220,\n",
       "        221, 222, 223, 224, 225, 226, 227, 228, 229, 230, 231, 232, 233,\n",
       "        234, 235, 236, 237, 238, 239, 240, 241, 242, 243, 244, 245, 246,\n",
       "        247, 248, 249, 250, 251, 252, 253, 254, 255, 256, 257, 258, 259,\n",
       "        260, 261, 262, 263, 264, 265, 266, 267, 268, 269, 270, 271, 272,\n",
       "        273, 274, 275, 276, 277, 278, 279, 280, 281, 282, 283, 284, 285,\n",
       "        286, 287, 288, 289, 290, 291, 292, 293, 294, 295, 296, 297, 298,\n",
       "        299, 300, 301, 302, 303, 304, 305, 306, 307, 308, 309, 310, 311,\n",
       "        312, 313, 314, 315, 316, 317, 318, 319, 320, 321, 322, 323, 324,\n",
       "        325, 326, 327, 328, 329, 330, 331, 332, 333, 334, 335, 336, 337,\n",
       "        338, 339, 340, 341, 342, 343, 344, 345, 346, 347, 348, 349, 350,\n",
       "        351, 352, 353, 354, 355, 356, 357, 358, 359, 360, 361, 362, 363,\n",
       "        364, 365, 366, 367, 368, 369, 370, 371, 372, 373, 374, 375, 376,\n",
       "        377, 378, 379, 380, 381, 382, 383, 384, 385, 386, 387, 388, 389,\n",
       "        390, 391, 392, 393, 394, 395, 396, 397, 398, 399, 400, 401, 402,\n",
       "        403, 404, 405, 406, 407, 408, 409, 410, 411, 412, 413, 414, 415,\n",
       "        416, 417, 418, 419, 420, 421, 422, 423, 424, 425, 426, 427, 428,\n",
       "        429, 430, 431, 432, 433, 434, 435, 436, 437, 438, 439, 440, 441,\n",
       "        442, 443, 444, 445, 446, 447, 448, 449, 450, 451, 452, 453, 454,\n",
       "        455, 456, 457, 458, 459, 460, 461, 462, 463, 464, 465, 466, 467,\n",
       "        468, 469, 470, 471, 472, 473, 474, 475, 476, 477, 478, 479, 480,\n",
       "        481, 482, 483, 484, 485, 486, 487, 488, 489, 490, 491, 492, 493,\n",
       "        494, 495, 496, 497, 498, 499, 500, 501, 502, 503, 504, 505, 506,\n",
       "        507, 508, 509, 510, 511, 512, 513, 514, 515, 516, 517, 518, 519,\n",
       "        520, 521, 522, 523, 524, 525, 526, 527, 528, 529, 530, 531, 532,\n",
       "        533, 534, 535, 536, 537, 538, 539, 540, 541, 542, 543, 544, 545,\n",
       "        546, 547, 548, 549, 550, 551, 552, 553, 554, 555]),\n",
       " <a list of 556 Text major ticklabel objects>)"
      ]
     },
     "execution_count": 10,
     "metadata": {},
     "output_type": "execute_result"
    },
    {
     "data": {
      "image/png": "[encoded data removed]",
      "text/plain": [
       "<Figure size 1152x216 with 1 Axes>"
      ]
     },
     "metadata": {
      "needs_background": "light"
     },
     "output_type": "display_data"
    }
   ],
   "source": [
    "plt.figure(figsize=(16,3))\n",
    "sns.countplot(data = categorical_variables, x='street', order=categorical_variables.street.value_counts().index)\n",
    "plt.xticks(\n",
    "    rotation=90, \n",
    "    horizontalalignment='right',\n",
    "    fontweight='light',\n",
    "    fontsize='small'  \n",
    ")"
   ]
  },
  {
   "cell_type": "code",
   "execution_count": 11,
   "metadata": {
    "scrolled": true
   },
   "outputs": [
    {
     "data": {
      "text/plain": [
       "(array([  0,   1,   2,   3,   4,   5,   6,   7,   8,   9,  10,  11,  12,\n",
       "         13,  14,  15,  16,  17,  18,  19,  20,  21,  22,  23,  24,  25,\n",
       "         26,  27,  28,  29,  30,  31,  32,  33,  34,  35,  36,  37,  38,\n",
       "         39,  40,  41,  42,  43,  44,  45,  46,  47,  48,  49,  50,  51,\n",
       "         52,  53,  54,  55,  56,  57,  58,  59,  60,  61,  62,  63,  64,\n",
       "         65,  66,  67,  68,  69,  70,  71,  72,  73,  74,  75,  76,  77,\n",
       "         78,  79,  80,  81,  82,  83,  84,  85,  86,  87,  88,  89,  90,\n",
       "         91,  92,  93,  94,  95,  96,  97,  98,  99, 100, 101, 102, 103,\n",
       "        104, 105, 106, 107, 108, 109, 110, 111, 112, 113, 114, 115, 116,\n",
       "        117, 118, 119, 120, 121, 122, 123, 124, 125, 126, 127, 128, 129,\n",
       "        130, 131, 132, 133, 134, 135, 136, 137, 138, 139, 140, 141, 142,\n",
       "        143, 144, 145, 146, 147, 148, 149, 150, 151, 152, 153, 154, 155,\n",
       "        156, 157, 158, 159, 160, 161, 162, 163, 164, 165, 166, 167, 168,\n",
       "        169, 170, 171, 172, 173, 174, 175, 176, 177, 178, 179, 180, 181,\n",
       "        182, 183, 184, 185, 186, 187, 188, 189, 190, 191, 192, 193, 194,\n",
       "        195, 196, 197, 198, 199, 200, 201, 202, 203, 204, 205, 206, 207,\n",
       "        208, 209, 210, 211, 212, 213, 214, 215, 216, 217, 218, 219, 220,\n",
       "        221, 222, 223, 224, 225, 226, 227, 228, 229, 230, 231, 232, 233,\n",
       "        234, 235, 236, 237, 238, 239, 240, 241, 242, 243, 244, 245, 246,\n",
       "        247, 248, 249, 250, 251, 252, 253, 254, 255, 256, 257, 258, 259,\n",
       "        260, 261, 262, 263, 264, 265, 266, 267, 268, 269, 270]),\n",
       " <a list of 271 Text major ticklabel objects>)"
      ]
     },
     "execution_count": 11,
     "metadata": {},
     "output_type": "execute_result"
    },
    {
     "data": {
      "image/png": "[encoded data removed]",
      "text/plain": [
       "<Figure size 1152x216 with 1 Axes>"
      ]
     },
     "metadata": {
      "needs_background": "light"
     },
     "output_type": "display_data"
    }
   ],
   "source": [
    "plt.figure(figsize=(16,3))\n",
    "sns.countplot(data = categorical_variables, x='ZHK', order=categorical_variables.ZHK.value_counts().index)\n",
    "plt.xticks(\n",
    "    rotation=90, \n",
    "    horizontalalignment='right',\n",
    "    fontweight='light',\n",
    "    fontsize='small'  \n",
    ")"
   ]
  },
  {
   "cell_type": "markdown",
   "metadata": {},
   "source": [
    "### 3.2  Data Relationships   <a class=\"anchor\" id=\"section_3_2\"></a>\n",
    "\n",
    "Let’s have a look at the relationship among various columns."
   ]
  },
  {
   "cell_type": "code",
   "execution_count": 12,
   "metadata": {},
   "outputs": [
    {
     "data": {
      "text/plain": [
       "Text(0.5, 1.05, 'Pearson Correlation of Features')"
      ]
     },
     "execution_count": 12,
     "metadata": {},
     "output_type": "execute_result"
    },
    {
     "data": {
      "image/png": "[encoded data removed]",
      "text/plain": [
       "<Figure size 576x576 with 2 Axes>"
      ]
     },
     "metadata": {
      "needs_background": "light"
     },
     "output_type": "display_data"
    }
   ],
   "source": [
    "# Compute the correlation matrix \n",
    "corr = data.corr()\n",
    "\n",
    "# Setup the matplotlib figure\n",
    "f, ax = plt.subplots(figsize=(8,8))\n",
    "\n",
    "# Generate a custome diverging color map\n",
    "cmap = sns.diverging_palette(220, 10, as_cmap=True)\n",
    "\n",
    "# Draw the heatmap\n",
    "_ = sns.heatmap(corr, cmap='YlGn', square=True, ax=ax, annot=True, linewidth=0.1)\n",
    "\n",
    "plt.title('Pearson Correlation of Features', y=1.05, size=15)"
   ]
  },
  {
   "cell_type": "markdown",
   "metadata": {},
   "source": [
    "## 4 Training the Model <a class=\"anchor\" id=\"chapter4\"></a>"
   ]
  },
  {
   "cell_type": "markdown",
   "metadata": {},
   "source": [
    "### 4.1 Linear Regression <a class=\"anchor\" id=\"section_3_1\"></a>\n",
    "\n",
    "Simple linear regression is an approach for predicting a **quantitative response** using a **single feature** (or \"predictor\" or \"input variable\"). It takes the following form:\n",
    "\n",
    "$y = \\beta_0 + \\beta_1x$\n",
    "\n",
    "What does each term represent?\n",
    "- $y$ is the response\n",
    "- $x$ is the feature\n",
    "- $\\beta_0$ is the intercept\n",
    "- $\\beta_1$ is the coefficient for x\n",
    "\n",
    "Together, $\\beta_0$ and $\\beta_1$ are called the **model coefficients**. To create your model, you must \"learn\" the values of these coefficients. And once we've learned these coefficients, we can use the model to predict Sales!\n",
    "\n",
    "Example using sklearn library:"
   ]
  },
  {
   "cell_type": "code",
   "execution_count": 13,
   "metadata": {},
   "outputs": [
    {
     "name": "stdout",
     "output_type": "stream",
     "text": [
      "Intercept:  28220786.7632898\n",
      "Slope or coefficient of the feature (b1):  15483.406730212175\n"
     ]
    }
   ],
   "source": [
    "from sklearn.linear_model import LinearRegression \n",
    "data=data.fillna(0)\n",
    "lm=LinearRegression()\n",
    "X = data[['year']]\n",
    "Y = data['price']\n",
    "\n",
    "#fit the model, i.e. find the parameters b0 and b1\n",
    "lm.fit(X, Y)\n",
    "\n",
    "#obtain preditions\n",
    "Yhat = lm.predict(X)\n",
    "\n",
    "#you can view the intercept (b0):\n",
    "print('Intercept: ', lm.intercept_)\n",
    "\n",
    "#you can view the slope (b1):\n",
    "print('Slope or coefficient of the feature (b1): ', lm.coef_[0])"
   ]
  },
  {
   "cell_type": "markdown",
   "metadata": {},
   "source": [
    "### 4.2 Multiple Linear Regression <a class=\"anchor\" id=\"section_4_2\"></a>\n",
    "\n",
    "Yhat = b0 + b1 * X1 + b2 * X2\n",
    "\n",
    "* **High cardinality** - High cardinality means that most of the values in that dataset column are unique (e.g. `street` and `ZHK` columns). Low cardinality, on the other hand, means that many of these values in a dataset column are repeated (in our case `city`, `type`).\n",
    "* **Multicollinearity** - refers to a situation in which two or more explanatory variables in a multiple regression model are highly linearly related (Wikipedia).\n",
    "* **Heteroskedasticity** - \n",
    "\n",
    "<br>\n",
    "In order to start introducing other variables we need to do some feature engineering. Linear regression models take numeric variables as inputs. Our dataset has multiple categorical variable that we need to prepare first. Columns `street`, `ZHK` are different - they have many categories (refer to frequency plot above). In order to transfor these nominal categorical variables to numeric we will apply a technique called *count/frequency encoding* - basically replacing a category with its frequency in that column. We won't go too much in detail here. \n"
   ]
  },
  {
   "cell_type": "code",
   "execution_count": 14,
   "metadata": {},
   "outputs": [
    {
     "name": "stdout",
     "output_type": "stream",
     "text": [
      "street :  557  labels\n",
      "city :  1  labels\n",
      "ZHK :  272  labels\n",
      "type :  5  labels\n"
     ]
    }
   ],
   "source": [
    "# Let's see again how many categories each of these columns have\n",
    "for col in categorical_variables.columns[:]:\n",
    "    print(col, \": \", len(categorical_variables[col].unique()), \" labels\")"
   ]
  },
  {
   "cell_type": "code",
   "execution_count": 15,
   "metadata": {
    "scrolled": true
   },
   "outputs": [
    {
     "data": {
      "text/plain": [
       "{0: 15455,\n",
       " 'монолитный': 4260,\n",
       " 'кирпичный': 176,\n",
       " 'жилой': 74,\n",
       " 'панельный дом': 36}"
      ]
     },
     "execution_count": 15,
     "metadata": {},
     "output_type": "execute_result"
    }
   ],
   "source": [
    "# Capture frequency values for each column\n",
    "data.type.value_counts().to_dict()"
   ]
  },
  {
   "cell_type": "code",
   "execution_count": 16,
   "metadata": {},
   "outputs": [
    {
     "data": {
      "text/plain": [
       "{'Алматы': 20001}"
      ]
     },
     "execution_count": 16,
     "metadata": {},
     "output_type": "execute_result"
    }
   ],
   "source": [
    "data.city.value_counts().to_dict()"
   ]
  },
  {
   "cell_type": "code",
   "execution_count": 17,
   "metadata": {},
   "outputs": [
    {
     "data": {
      "text/plain": [
       "{0: 15496,\n",
       " 'Шахристан': 317,\n",
       " 'Манхеттан': 160,\n",
       " 'Atameken': 123,\n",
       " 'Алтын Булак 2': 114,\n",
       " 'Аманат': 108,\n",
       " 'Асыл Тау': 106,\n",
       " 'LEGENDA': 92,\n",
       " 'КУАТ': 88,\n",
       " 'Alatau City': 74,\n",
       " 'Восточный Парк': 71,\n",
       " 'Mega Tower Almaty': 66,\n",
       " 'AFD Plaza': 62,\n",
       " 'Акварель': 61,\n",
       " 'Гаухартас': 60,\n",
       " 'Тау Самал': 58,\n",
       " 'Алмалы': 58,\n",
       " 'Премьера': 54,\n",
       " 'Central Park Residence': 51,\n",
       " 'Хан-Тенгри': 50,\n",
       " 'Арай': 50,\n",
       " 'Алтын Булак 1': 49,\n",
       " 'Жастар Mag': 47,\n",
       " 'Симфония': 47,\n",
       " 'Европолис': 46,\n",
       " 'АкКент': 45,\n",
       " 'Аль-Фараби': 44,\n",
       " 'Element': 42,\n",
       " 'Спутник': 40,\n",
       " 'Береке': 39,\n",
       " 'Науаи': 36,\n",
       " 'Alma City': 36,\n",
       " 'Максима': 35,\n",
       " 'Өркендеу': 33,\n",
       " 'Orion': 32,\n",
       " 'Тенгиз Тауэрс': 31,\n",
       " 'Керемет': 31,\n",
       " 'Толе би Тау': 30,\n",
       " 'Мечта': 29,\n",
       " 'Dostyk Residence': 29,\n",
       " 'Аэлита': 28,\n",
       " 'Exclusive Life': 28,\n",
       " 'Жайлы': 28,\n",
       " 'Максима Резидентс': 27,\n",
       " 'Парк Горького': 27,\n",
       " 'Вавилон': 27,\n",
       " 'Каусар': 27,\n",
       " 'Айгерим': 26,\n",
       " 'Нурлы Тау': 25,\n",
       " 'Бухар Жырау Тауэрс': 25,\n",
       " 'Талисман': 24,\n",
       " 'Бай–тал': 24,\n",
       " 'Солнечный Квартал': 24,\n",
       " 'Солнечная Долина': 24,\n",
       " 'Esentai City': 23,\n",
       " 'Арман Вилла': 23,\n",
       " 'ВЕК': 22,\n",
       " 'Zodiac': 22,\n",
       " 'Шугыла': 22,\n",
       " 'Верный': 22,\n",
       " 'Есентай': 21,\n",
       " 'Отау': 21,\n",
       " 'Арман': 21,\n",
       " 'Central Esentai Residence': 21,\n",
       " 'Астана': 21,\n",
       " 'Жагалау - 46 квартал': 20,\n",
       " 'Samal Tower': 20,\n",
       " 'Комфорт': 20,\n",
       " 'Atlant': 19,\n",
       " 'Art Residence': 19,\n",
       " 'Gulder': 19,\n",
       " 'Esentai Apartments': 19,\n",
       " 'Аскар Тау': 19,\n",
       " 'Столичный Центр': 19,\n",
       " 'Koktobe city': 18,\n",
       " 'Rams luxury': 18,\n",
       " 'Евразия': 18,\n",
       " 'Жеруйык': 18,\n",
       " 'Сакура': 18,\n",
       " 'UTEGEN': 17,\n",
       " 'Самал Делюкс': 17,\n",
       " 'Алтын Орда': 16,\n",
       " 'Central Avenue': 16,\n",
       " 'Apple Town': 16,\n",
       " 'NS – Tau': 16,\n",
       " 'Ренессанс': 15,\n",
       " 'Меркур Град': 15,\n",
       " 'Abay 130': 14,\n",
       " 'Алматы Тауэрс': 14,\n",
       " 'Нур Тобе': 14,\n",
       " 'Северное кольцо': 14,\n",
       " 'Эдельвейс': 14,\n",
       " 'Bayterek Residence': 14,\n",
       " 'Сункар': 13,\n",
       " 'ile de France': 13,\n",
       " 'Нуркент': 13,\n",
       " 'Элит-2': 13,\n",
       " 'Молодежный': 13,\n",
       " 'Тау Шатыр': 12,\n",
       " 'Кок Жер': 12,\n",
       " 'Latifa residence': 12,\n",
       " 'Панорама': 12,\n",
       " 'Алтын Заман': 12,\n",
       " 'Центральный': 12,\n",
       " 'Алма': 12,\n",
       " 'Tau-house': 11,\n",
       " 'Радужный берег': 11,\n",
       " 'Miras Park': 11,\n",
       " 'Базис': 11,\n",
       " 'Ностальжи': 11,\n",
       " 'Exclusive Residence': 11,\n",
       " 'Izumrud Residence': 11,\n",
       " 'Жандосова': 11,\n",
       " 'Парк Резиденс': 10,\n",
       " 'НИКО': 10,\n",
       " 'Бес Тулга': 10,\n",
       " 'Театральный': 10,\n",
       " 'Терренкур': 10,\n",
       " 'Ак Бота': 10,\n",
       " 'Престиж': 10,\n",
       " 'Алатау': 10,\n",
       " 'Braun': 10,\n",
       " 'Алма-Ата': 9,\n",
       " 'Jazz-квартал': 9,\n",
       " 'Эйвон': 9,\n",
       " 'Байсал': 9,\n",
       " 'Remizovka': 9,\n",
       " 'Посольский': 9,\n",
       " 'Академия': 9,\n",
       " 'Уш-Сункар': 8,\n",
       " 'Ботанический Бульвар': 8,\n",
       " 'Каргалы': 8,\n",
       " 'Ата': 8,\n",
       " 'Elif Towers': 8,\n",
       " 'Звезда Востока': 7,\n",
       " 'Овация': 7,\n",
       " 'Рапсодия': 7,\n",
       " 'Ремизовка': 7,\n",
       " 'Оркен': 7,\n",
       " 'Бастау': 7,\n",
       " 'Элит-1': 7,\n",
       " 'Дуэт': 6,\n",
       " 'Баганашил Севен Старс': 6,\n",
       " 'Куаныш': 6,\n",
       " 'Kayra': 6,\n",
       " 'Forum Plus': 6,\n",
       " 'Наурыз': 6,\n",
       " 'Бакытты омир': 6,\n",
       " 'Alim': 6,\n",
       " 'Кокше': 6,\n",
       " 'Клубный дом DeVille': 6,\n",
       " 'Жетысу': 6,\n",
       " 'Жастар Атамекен': 6,\n",
       " 'Бейбарыс Билдинг': 6,\n",
       " 'Изумрудный город': 6,\n",
       " 'Салем-2': 6,\n",
       " 'Зеленая Долина': 5,\n",
       " 'Адиет': 5,\n",
       " 'Мега Сайран': 5,\n",
       " 'Adal Residence': 5,\n",
       " 'Пионер': 5,\n",
       " 'Престиж Алатау': 5,\n",
       " 'Шанырак': 5,\n",
       " 'Реал Алматы': 5,\n",
       " 'Космо': 5,\n",
       " 'Жастар-2 Mag': 5,\n",
       " 'Ботанический Cад': 5,\n",
       " 'Кокжиек': 5,\n",
       " 'Moskva': 5,\n",
       " 'Салем': 5,\n",
       " 'Royal Gardens': 5,\n",
       " 'Комильфо': 5,\n",
       " 'МЖК': 5,\n",
       " 'Фантазия': 5,\n",
       " 'Акниет': 5,\n",
       " 'Gagarin Park': 5,\n",
       " 'Arbat': 4,\n",
       " 'Abay Residence': 4,\n",
       " 'Жасмин': 4,\n",
       " 'Этюд': 4,\n",
       " 'Весна': 4,\n",
       " 'Тау': 4,\n",
       " 'Gorky Park Residence': 4,\n",
       " 'Рамс ': 4,\n",
       " 'Ак Алем': 4,\n",
       " 'Жайляу': 4,\n",
       " 'Версаль': 4,\n",
       " 'Арыстан': 4,\n",
       " 'Новый Мир': 4,\n",
       " 'КУАT': 4,\n",
       " 'Ак-Кайын': 4,\n",
       " 'Гранд Алатау': 4,\n",
       " 'Айнабулак': 4,\n",
       " 'Ак жол - Отау': 4,\n",
       " 'Наурыз-2': 4,\n",
       " 'Royal': 4,\n",
       " 'Олд Базис': 4,\n",
       " 'Самга': 4,\n",
       " 'Кунбел': 3,\n",
       " 'Eco Green': 3,\n",
       " 'Сатти': 3,\n",
       " 'Восход': 3,\n",
       " 'Cordial': 3,\n",
       " 'Алем (КГ)': 3,\n",
       " 'Импорио': 3,\n",
       " 'Прогресс': 3,\n",
       " 'Академия-1': 3,\n",
       " 'Меркур Тауэрс': 3,\n",
       " 'Акмарал': 3,\n",
       " 'Сезам': 3,\n",
       " 'Комфорт Плюс': 3,\n",
       " 'Венский дом': 3,\n",
       " 'Три Богатыря': 3,\n",
       " 'Два Богатыря': 2,\n",
       " 'Медеу Парк': 2,\n",
       " 'Родник': 2,\n",
       " 'Батыр': 2,\n",
       " 'Тау Терек': 2,\n",
       " 'Азия': 2,\n",
       " 'Эдельвейс ': 2,\n",
       " 'Тюркуаз Тауэрс': 2,\n",
       " 'Ortau': 2,\n",
       " 'Эталон ': 2,\n",
       " 'Олимп': 2,\n",
       " 'Artville Алма-Арасан (КГ)': 2,\n",
       " 'КГ Карасу': 2,\n",
       " 'Gres Park': 2,\n",
       " 'City Park': 2,\n",
       " 'Sandel': 2,\n",
       " 'Opera': 2,\n",
       " 'Bella Villa (КГ)': 2,\n",
       " 'НИКО Джамбула - Чайковского': 2,\n",
       " 'Mountain Drive': 2,\n",
       " 'Vostochka': 2,\n",
       " 'Varlamova': 1,\n",
       " 'Аскарбек': 1,\n",
       " 'Gagarin Terrace': 1,\n",
       " 'Солнечная Доли': 1,\n",
       " 'Горстрой': 1,\n",
       " 'Sun Villa': 1,\n",
       " 'Алем (Әлем)': 1,\n",
       " 'Atameken Tower': 1,\n",
       " 'ЖК в мкр': 1,\n",
       " 'Горная Долина': 1,\n",
       " 'Аспан Сити': 1,\n",
       " 'Ideal Residence': 1,\n",
       " 'Алгабас (КГ)': 1,\n",
       " 'Отрар': 1,\n",
       " 'Ush Qońyr': 1,\n",
       " 'Exclusive Юбилейный': 1,\n",
       " 'Кулан': 1,\n",
       " 'ЖанЕл ': 1,\n",
       " 'Gorny Residence': 1,\n",
       " 'Мамыр': 1,\n",
       " 'ЖанЕл': 1,\n",
       " 'Мирный': 1,\n",
       " '12 месяцев': 1,\n",
       " 'Bright Hills': 1,\n",
       " 'White Fort': 1,\n",
       " 'Современный': 1,\n",
       " 'Alatau Hills': 1,\n",
       " 'Эталон': 1,\n",
       " 'Сарыарка': 1,\n",
       " 'Adem Village': 1,\n",
       " 'Тан Нуры': 1,\n",
       " 'Думан': 1,\n",
       " 'Тараз': 1,\n",
       " 'Хуторок': 1,\n",
       " 'Асыл Арман': 1,\n",
       " 'Берекет': 1,\n",
       " 'Южный Дуэт': 1,\n",
       " 'Bloom House': 1}"
      ]
     },
     "execution_count": 17,
     "metadata": {},
     "output_type": "execute_result"
    }
   ],
   "source": [
    "data.ZHK.value_counts().to_dict()"
   ]
  },
  {
   "cell_type": "code",
   "execution_count": 18,
   "metadata": {},
   "outputs": [
    {
     "data": {
      "text/plain": [
       "{0: 8669,\n",
       " 'Навои': 516,\n",
       " 'Розыбакиева': 470,\n",
       " 'Брусиловского': 363,\n",
       " 'Сатпаева': 358,\n",
       " 'Гагарина': 356,\n",
       " 'Толеби': 283,\n",
       " 'Аль-Фараби': 266,\n",
       " 'Абая': 252,\n",
       " 'Казыбекби': 184,\n",
       " 'Богенбай': 182,\n",
       " 'Радостовца': 174,\n",
       " 'Жарокова': 173,\n",
       " 'Достык': 166,\n",
       " 'Тимирязева': 163,\n",
       " 'Айманова': 160,\n",
       " 'Наурызбай': 153,\n",
       " 'Гоголя': 132,\n",
       " 'Райымбека': 131,\n",
       " 'Манаса': 130,\n",
       " 'Шевченко': 128,\n",
       " 'Кекилбайулы': 127,\n",
       " 'Саина': 127,\n",
       " 'ЖасКанат': 127,\n",
       " 'Макатаева': 126,\n",
       " 'Сейфуллина': 124,\n",
       " 'Муратбаева': 124,\n",
       " 'Курмангазы': 120,\n",
       " 'Егизбаева': 119,\n",
       " 'Кабанбай': 116,\n",
       " 'Ауэзова': 111,\n",
       " 'Жандосова': 103,\n",
       " 'Байзакова': 102,\n",
       " 'Кунаева': 94,\n",
       " 'Карасай': 93,\n",
       " 'Аккент': 91,\n",
       " 'Тулебаева': 89,\n",
       " 'Аскарова': 86,\n",
       " 'Торайгырова': 86,\n",
       " 'Клочкова': 86,\n",
       " 'Байтурсынова': 85,\n",
       " 'Ходжанова': 83,\n",
       " 'Панфилова': 82,\n",
       " 'Назарбаева': 79,\n",
       " 'Масанчи': 78,\n",
       " 'Валиханова': 77,\n",
       " 'Жамбыла': 75,\n",
       " 'Шагабутдинова': 73,\n",
       " 'Каблукова': 68,\n",
       " 'Бухар-Жырау': 68,\n",
       " 'Желтоксан': 66,\n",
       " 'Пушкина': 65,\n",
       " 'Кенесары': 60,\n",
       " 'Маркова': 58,\n",
       " 'Нурмакова': 58,\n",
       " 'Жуалы': 55,\n",
       " 'Тлендиева': 54,\n",
       " '3': 53,\n",
       " 'Тажибаевой': 53,\n",
       " 'Утепова': 53,\n",
       " 'Рыскулбекова': 50,\n",
       " 'Зенкова': 50,\n",
       " 'Кажымукана': 48,\n",
       " '1': 47,\n",
       " 'Утеген': 45,\n",
       " 'Айтеке': 41,\n",
       " 'Прокофьева': 41,\n",
       " 'Омаровой': 41,\n",
       " 'Чайковского': 41,\n",
       " 'Маметовой': 40,\n",
       " 'Исаева': 40,\n",
       " 'Жунисова': 39,\n",
       " 'Досмухамедова': 39,\n",
       " 'Басенова': 39,\n",
       " 'Джандосова': 38,\n",
       " 'Мынбаева': 38,\n",
       " 'Кожамкулова': 37,\n",
       " 'Жамакаева': 37,\n",
       " 'Муканова': 36,\n",
       " 'Барибаева': 35,\n",
       " 'Мауленова': 35,\n",
       " 'Майлина': 35,\n",
       " 'Солодовникова': 34,\n",
       " 'Айтиева': 34,\n",
       " 'Митина': 33,\n",
       " 'Есенберлина': 33,\n",
       " 'Бальзака': 31,\n",
       " 'Абылайхана': 30,\n",
       " 'Мустафина': 30,\n",
       " 'Каирбекова': 30,\n",
       " 'Фурманова': 30,\n",
       " 'Шарипова': 29,\n",
       " 'Луганского': 28,\n",
       " 'Жумалиева': 28,\n",
       " 'Дуйсенова': 26,\n",
       " 'Кашгарская': 25,\n",
       " 'Туркебаева': 25,\n",
       " 'Шаляпина': 24,\n",
       " '13': 23,\n",
       " 'Оспанова': 23,\n",
       " 'Касымова': 22,\n",
       " 'Зейна': 22,\n",
       " 'Бекхожина': 21,\n",
       " 'Толстого': 21,\n",
       " 'Токтабаева': 21,\n",
       " 'Хаджи': 21,\n",
       " 'Габдуллина': 20,\n",
       " 'Алимжанова': 20,\n",
       " 'Вахтангова': 19,\n",
       " 'Синхая': 19,\n",
       " 'Хусаинова': 19,\n",
       " 'Абишева': 19,\n",
       " 'Мусрепова': 19,\n",
       " 'Гайдара': 19,\n",
       " 'Суюнбая': 18,\n",
       " 'Северное': 18,\n",
       " 'Жибек': 18,\n",
       " 'Калдаякова': 18,\n",
       " 'Бабаева': 16,\n",
       " 'Янушкевича': 16,\n",
       " 'Снегина': 16,\n",
       " 'Жубанова': 16,\n",
       " 'Керей-Жәнібек': 16,\n",
       " 'Арайлы': 16,\n",
       " 'Есенова': 16,\n",
       " 'Шашкина': 16,\n",
       " '5': 15,\n",
       " 'Линия': 15,\n",
       " 'Сагадат': 15,\n",
       " 'Алтынсарина': 14,\n",
       " 'Молдагуловой': 14,\n",
       " 'Бузурбаева': 14,\n",
       " 'Ришата': 14,\n",
       " 'Володарского': 14,\n",
       " 'Бауыржана': 14,\n",
       " 'Горная': 13,\n",
       " 'Ислама': 13,\n",
       " 'Рубинштейна': 13,\n",
       " 'Тургут': 13,\n",
       " 'Спасская': 12,\n",
       " '20': 12,\n",
       " 'Минина': 11,\n",
       " 'Чехова': 11,\n",
       " 'Емцова': 11,\n",
       " 'Алгабас': 10,\n",
       " 'Тайманова': 10,\n",
       " 'Архат': 10,\n",
       " 'Нусупбекова': 10,\n",
       " 'Бекмаханова': 10,\n",
       " 'Байсеитовой': 10,\n",
       " 'Аносова': 10,\n",
       " 'Варламова': 9,\n",
       " 'Шолом-Алейхема': 9,\n",
       " 'Райымбек': 9,\n",
       " 'Жандарбекова': 9,\n",
       " 'Б.': 9,\n",
       " 'Чернышевского': 9,\n",
       " 'Столетова': 9,\n",
       " 'Щепкина': 8,\n",
       " 'Жетысу': 8,\n",
       " 'Таугуль': 8,\n",
       " 'Тургута': 8,\n",
       " 'Мусабаева': 8,\n",
       " 'Санаторная': 8,\n",
       " 'Биржана': 8,\n",
       " 'Жазылбека': 8,\n",
       " 'Бегалина': 8,\n",
       " 'Байкадамова': 8,\n",
       " 'Мамыр-1': 7,\n",
       " 'Садвакасова': 7,\n",
       " 'Кабдолова': 7,\n",
       " 'Мухамеджанова': 7,\n",
       " 'Байкенова': 7,\n",
       " 'Ерменсай': 7,\n",
       " 'Черкасской': 7,\n",
       " 'Молдагалиева': 7,\n",
       " 'Ровенского': 7,\n",
       " 'Абдуллиных': 7,\n",
       " 'Тепличная': 6,\n",
       " 'Рыскулова': 6,\n",
       " 'Ладушкина': 6,\n",
       " 'Байганина': 6,\n",
       " 'Самал': 6,\n",
       " 'Пятницкого': 6,\n",
       " 'Сыргабекова': 6,\n",
       " 'Грановская': 6,\n",
       " 'Маметова': 6,\n",
       " '8': 6,\n",
       " 'Бухтарминская': 6,\n",
       " 'Джамбула': 6,\n",
       " 'Мирас': 6,\n",
       " 'Ратушного': 6,\n",
       " 'Жангельдина': 5,\n",
       " 'Жайсан': 5,\n",
       " '16': 5,\n",
       " 'Мустай': 5,\n",
       " 'Верещагина': 5,\n",
       " 'Ремизовка': 5,\n",
       " 'Огарёва': 5,\n",
       " 'Аксай': 5,\n",
       " 'Ладыгина': 5,\n",
       " 'Брауна': 5,\n",
       " 'Казыбаева': 5,\n",
       " 'Ашимова': 5,\n",
       " 'Мендикулова': 5,\n",
       " '6': 5,\n",
       " 'Бостандыкский': 5,\n",
       " 'Асыл': 5,\n",
       " 'Халиуллина': 5,\n",
       " 'Думан': 5,\n",
       " 'Шакарима': 5,\n",
       " 'Жумабаева': 5,\n",
       " 'Ербола': 5,\n",
       " 'Монтажная': 5,\n",
       " 'Тынышбаева': 5,\n",
       " 'Кекилбаева': 5,\n",
       " '2': 5,\n",
       " 'Аль-фараби': 4,\n",
       " 'Стрелецкая': 4,\n",
       " 'Мади': 4,\n",
       " 'Ударная': 4,\n",
       " 'Жандарбеков': 4,\n",
       " 'Минусинская': 4,\n",
       " 'Шафика': 4,\n",
       " 'Осипенко': 4,\n",
       " 'Шолохова': 4,\n",
       " 'Биокомбинатская': 4,\n",
       " 'Улытау': 4,\n",
       " 'Акиык': 4,\n",
       " 'Кисловодская': 4,\n",
       " 'Турксибский': 4,\n",
       " 'Амангельды': 4,\n",
       " 'Дулатова': 4,\n",
       " 'Акансеры': 4,\n",
       " 'Кассина': 4,\n",
       " 'Казыбек': 4,\n",
       " 'Ботаническая': 4,\n",
       " 'Алмалинский': 4,\n",
       " 'Кожабекова': 4,\n",
       " 'Сауранбаева': 4,\n",
       " 'Кунгурская': 4,\n",
       " 'Сыпатаева': 4,\n",
       " 'Омарова': 4,\n",
       " 'Геологов': 4,\n",
       " 'Коктем': 4,\n",
       " 'Сейфулина': 4,\n",
       " 'Юрия': 4,\n",
       " 'Земнухова': 4,\n",
       " 'Айнабулак': 4,\n",
       " 'Бехтерева': 3,\n",
       " 'Чаплыгина': 3,\n",
       " 'Джандарбекова': 3,\n",
       " 'Габидена': 3,\n",
       " 'Магнитная': 3,\n",
       " 'Станкевича': 3,\n",
       " 'Абдулиных': 3,\n",
       " 'Керуентау': 3,\n",
       " 'Айвазовского': 3,\n",
       " 'Альфараби': 3,\n",
       " 'Тлеуберды': 3,\n",
       " 'Чокина': 3,\n",
       " 'Керемет': 3,\n",
       " 'Ганибет': 3,\n",
       " 'Жамбула': 3,\n",
       " 'Кокжиек': 3,\n",
       " 'Рихарда': 3,\n",
       " 'Дунентаева': 3,\n",
       " 'Алмагуль': 3,\n",
       " 'Тастак': 3,\n",
       " 'Раимбека': 3,\n",
       " 'Нурсултана': 3,\n",
       " 'Ондасынова': 3,\n",
       " 'Ауезова': 3,\n",
       " 'Акпаева': 3,\n",
       " 'Красногвардейский': 3,\n",
       " 'Шафик': 3,\n",
       " 'Ногайбаева': 3,\n",
       " 'Бокейханова': 3,\n",
       " 'Алтай': 3,\n",
       " 'Палладина': 3,\n",
       " 'Тополевая': 3,\n",
       " 'Первомайская': 3,\n",
       " 'Наурыз': 3,\n",
       " 'Кульжинский': 3,\n",
       " 'Сайна': 3,\n",
       " 'Кокорай': 3,\n",
       " 'Толе': 3,\n",
       " 'Рахмадиева': 3,\n",
       " 'Орбита': 3,\n",
       " 'Радастовца': 2,\n",
       " 'Водопроводная': 2,\n",
       " 'Улан': 2,\n",
       " 'Ескараева': 2,\n",
       " 'Бокеева': 2,\n",
       " 'Асанбая': 2,\n",
       " 'Физкультурная': 2,\n",
       " 'Черкасская': 2,\n",
       " 'Азовская': 2,\n",
       " 'Акбулак': 2,\n",
       " 'Алатауская': 2,\n",
       " 'Дунаевского': 2,\n",
       " 'Нижняя': 2,\n",
       " 'Зеина': 2,\n",
       " 'Бакира': 2,\n",
       " 'Огарева': 2,\n",
       " 'Водник': 2,\n",
       " '4': 2,\n",
       " '24': 2,\n",
       " 'Даулеткерея': 2,\n",
       " 'Медеуский': 2,\n",
       " 'Коломенская': 2,\n",
       " 'Керей-Жанибек': 2,\n",
       " 'Щербакова': 2,\n",
       " 'Дарабоз': 2,\n",
       " 'Берегового': 2,\n",
       " 'Аргымак': 2,\n",
       " 'Шолом': 2,\n",
       " 'Макаренко': 2,\n",
       " 'Достоевского': 2,\n",
       " 'Ташкентская': 2,\n",
       " 'Садыкова': 2,\n",
       " 'Попова': 2,\n",
       " 'Белградская': 2,\n",
       " 'Гете': 2,\n",
       " 'Нурсая': 2,\n",
       " 'Сефуллина': 2,\n",
       " 'Казакова': 2,\n",
       " 'Чайкиной': 2,\n",
       " 'Карасу': 2,\n",
       " 'Кекильбаева': 2,\n",
       " 'Сагадата': 2,\n",
       " 'Тажибаева': 2,\n",
       " 'Бруно': 2,\n",
       " 'Гульдалинский': 2,\n",
       " 'Алатауский': 2,\n",
       " 'Санаторий': 2,\n",
       " 'Джетысуская': 2,\n",
       " 'Тянь-шанская': 2,\n",
       " 'Момышулы': 2,\n",
       " 'Пугачева': 2,\n",
       " 'Жетысуская': 2,\n",
       " 'Джетысуйская': 2,\n",
       " 'Осепиенко': 2,\n",
       " 'Бухар': 2,\n",
       " 'Полежаева': 2,\n",
       " 'Сулейменова': 2,\n",
       " 'Куанышбаева': 2,\n",
       " 'Элеваторская': 2,\n",
       " 'Хаджимукана': 2,\n",
       " 'Сакена': 2,\n",
       " 'Глазунова': 2,\n",
       " 'Булкушева': 1,\n",
       " 'Масанчи.': 1,\n",
       " 'Чаиковского': 1,\n",
       " 'Байконурская': 1,\n",
       " 'Янтарная': 1,\n",
       " 'Чуланова': 1,\n",
       " 'Ереванская': 1,\n",
       " 'Казакфильм': 1,\n",
       " 'Кекилбаев': 1,\n",
       " 'Еркегали': 1,\n",
       " 'Мендыгулова': 1,\n",
       " 'ЖК': 1,\n",
       " 'Огорева': 1,\n",
       " 'КызЖибек': 1,\n",
       " 'Донентаева': 1,\n",
       " 'Теректы': 1,\n",
       " 'Зеин': 1,\n",
       " 'Джумалиева': 1,\n",
       " 'Нурлы': 1,\n",
       " 'Потанина': 1,\n",
       " 'Рауана': 1,\n",
       " 'Акынова': 1,\n",
       " 'Ганибед': 1,\n",
       " 'Рихард': 1,\n",
       " 'Мамыр': 1,\n",
       " 'Айбасова': 1,\n",
       " 'Актобе': 1,\n",
       " 'Мажорова': 1,\n",
       " 'Жолдасбекова': 1,\n",
       " 'Тесленко': 1,\n",
       " 'Лесная': 1,\n",
       " 'Абдулинных': 1,\n",
       " 'Ауэзоза': 1,\n",
       " 'Текстильная': 1,\n",
       " 'Орталык': 1,\n",
       " 'Темирязова': 1,\n",
       " 'Столетов': 1,\n",
       " 'Козыбаева': 1,\n",
       " 'Радостовец': 1,\n",
       " 'Джетусуйская': 1,\n",
       " 'Акжар': 1,\n",
       " 'Жангир': 1,\n",
       " 'Жибек-жолы': 1,\n",
       " 'Браун': 1,\n",
       " 'Жетбаева': 1,\n",
       " 'Р.': 1,\n",
       " 'Искандерова': 1,\n",
       " 'Садовый': 1,\n",
       " 'Хусайнова': 1,\n",
       " 'Кабанбая': 1,\n",
       " 'Байрона': 1,\n",
       " 'Короленко': 1,\n",
       " 'Ауэзовский': 1,\n",
       " 'Бөгенбай': 1,\n",
       " 'Шугыла': 1,\n",
       " 'Салодовникова': 1,\n",
       " 'Дружба': 1,\n",
       " 'ЖанаКуат': 1,\n",
       " 'Штрауса': 1,\n",
       " 'Иванилова': 1,\n",
       " '23': 1,\n",
       " 'Жангильдина': 1,\n",
       " 'Спортивная': 1,\n",
       " 'Покровская': 1,\n",
       " 'Жорокого': 1,\n",
       " 'Баумана': 1,\n",
       " 'Яссауи': 1,\n",
       " 'Достоевский': 1,\n",
       " 'Жургенова': 1,\n",
       " 'Казахфильм': 1,\n",
       " 'Сурикова': 1,\n",
       " 'Вольная': 1,\n",
       " 'Темирязева': 1,\n",
       " 'Сүінбай': 1,\n",
       " 'Тилендиева': 1,\n",
       " 'Ғанибет': 1,\n",
       " 'Тохтарова': 1,\n",
       " 'Кжимукана': 1,\n",
       " 'Нурмагамбетов': 1,\n",
       " 'Родостовца': 1,\n",
       " 'Ураза': 1,\n",
       " 'Шукшина': 1,\n",
       " 'Мрн': 1,\n",
       " 'Талант': 1,\n",
       " 'Торетай': 1,\n",
       " 'Марата': 1,\n",
       " 'Омская': 1,\n",
       " 'Жансая': 1,\n",
       " 'Санаторна': 1,\n",
       " 'Саялы': 1,\n",
       " 'Дегдар': 1,\n",
       " 'Адуллиных': 1,\n",
       " 'Аймаутова': 1,\n",
       " 'Сокпакбаева': 1,\n",
       " 'Мустафы': 1,\n",
       " 'Айтикеби': 1,\n",
       " 'Қазыбекби': 1,\n",
       " 'Мусирепова': 1,\n",
       " 'Басенов': 1,\n",
       " 'Клары': 1,\n",
       " 'Ж.Омаровой': 1,\n",
       " 'Весновка': 1,\n",
       " 'Умурзакова': 1,\n",
       " 'Есенжанова': 1,\n",
       " 'Джамбыла': 1,\n",
       " 'Гёте': 1,\n",
       " 'Желтоқсан': 1,\n",
       " 'Н.': 1,\n",
       " 'Исиналиева': 1,\n",
       " 'Красногорская': 1,\n",
       " 'Актолкын': 1,\n",
       " 'Абдуллинных': 1,\n",
       " 'Умбетбаева': 1,\n",
       " 'Жетысуский': 1,\n",
       " 'Ахан': 1,\n",
       " 'Камажай': 1,\n",
       " 'Саяна': 1,\n",
       " 'Косая': 1,\n",
       " 'Таирова': 1,\n",
       " 'Нурпеисова': 1,\n",
       " 'Каусар': 1,\n",
       " 'Елебекова': 1,\n",
       " 'Айтеки': 1,\n",
       " 'Витебская': 1,\n",
       " '17': 1,\n",
       " 'Алимжанов': 1,\n",
       " 'Ақан': 1,\n",
       " 'Мирзаяна': 1,\n",
       " 'Шевчено': 1,\n",
       " 'Наурызбайский': 1,\n",
       " 'Кайырбекова': 1,\n",
       " 'Победы': 1,\n",
       " 'Немировича': 1,\n",
       " 'Радосцовца': 1,\n",
       " 'Курсангазы': 1,\n",
       " 'Лихачёва': 1,\n",
       " 'Назарбаев': 1,\n",
       " 'Ширипова': 1,\n",
       " 'Самал1': 1,\n",
       " 'Гравийная': 1,\n",
       " 'Кихтенко': 1,\n",
       " 'Шегабутдинова': 1,\n",
       " 'Родастовца': 1,\n",
       " 'Муленова': 1,\n",
       " 'Радостова': 1,\n",
       " 'Байкена': 1,\n",
       " 'Экспериментальная': 1,\n",
       " 'Закарпатская': 1,\n",
       " 'Самал-1': 1,\n",
       " 'Бурсиловского': 1,\n",
       " 'Текелийская': 1,\n",
       " 'Сейуллина': 1,\n",
       " 'Таугуль-3': 1,\n",
       " 'Ломоносова': 1,\n",
       " 'Наваи': 1,\n",
       " 'Данченко': 1,\n",
       " 'Ташкентский': 1,\n",
       " 'Огареева': 1,\n",
       " 'Серикова': 1,\n",
       " 'Шокая': 1,\n",
       " 'Курортная': 1,\n",
       " 'Афцинао': 1,\n",
       " 'Керей-Жанібек': 1,\n",
       " 'Кокайдай': 1,\n",
       " 'Байжанова': 1,\n",
       " 'Габдулина': 1,\n",
       " 'Ноуаи': 1,\n",
       " 'Керей-Жаныбек': 1,\n",
       " '11': 1,\n",
       " 'Калдоякова': 1,\n",
       " 'Отеген': 1,\n",
       " 'Мұстай': 1,\n",
       " 'Аймаова': 1,\n",
       " 'Рн': 1,\n",
       " 'Булавина': 1,\n",
       " 'Айша-биби': 1,\n",
       " 'Туркибаева': 1,\n",
       " 'Хмельницкого': 1,\n",
       " 'Римского': 1,\n",
       " 'Назакбаева': 1,\n",
       " 'Филатова': 1,\n",
       " 'Бектурова': 1,\n",
       " 'Науаи': 1,\n",
       " 'Самал-2': 1,\n",
       " 'Корсакова': 1,\n",
       " 'Шолом-Алейхем': 1,\n",
       " 'Мамыр-4': 1,\n",
       " 'Физули': 1,\n",
       " 'Сагдиева': 1,\n",
       " 'Саурык': 1,\n",
       " 'Хамеди': 1,\n",
       " 'Паладина': 1,\n",
       " 'Ботанический': 1,\n",
       " 'Элеватор': 1,\n",
       " 'Орманова': 1,\n",
       " 'Титова': 1,\n",
       " 'Нурмагамбетова': 1,\n",
       " 'Гагаррина': 1,\n",
       " 'Беринга': 1,\n",
       " 'Молдагулова': 1,\n",
       " 'Спартака': 1,\n",
       " 'Тянь-Шанская': 1,\n",
       " 'Тимиризева': 1,\n",
       " 'Шамиевой': 1,\n",
       " 'Эксперементальная': 1,\n",
       " 'Кульджинский': 1}"
      ]
     },
     "execution_count": 18,
     "metadata": {},
     "output_type": "execute_result"
    }
   ],
   "source": [
    "data.street.value_counts().to_dict()"
   ]
  },
  {
   "cell_type": "code",
   "execution_count": 19,
   "metadata": {},
   "outputs": [
    {
     "data": {
      "text/html": [
       "<div>\n",
       "<style scoped>\n",
       "    .dataframe tbody tr th:only-of-type {\n",
       "        vertical-align: middle;\n",
       "    }\n",
       "\n",
       "    .dataframe tbody tr th {\n",
       "        vertical-align: top;\n",
       "    }\n",
       "\n",
       "    .dataframe thead th {\n",
       "        text-align: right;\n",
       "    }\n",
       "</style>\n",
       "<table border=\"1\" class=\"dataframe\">\n",
       "  <thead>\n",
       "    <tr style=\"text-align: right;\">\n",
       "      <th></th>\n",
       "      <th>price</th>\n",
       "      <th>rooms</th>\n",
       "      <th>area</th>\n",
       "      <th>street</th>\n",
       "      <th>city</th>\n",
       "      <th>ZHK</th>\n",
       "      <th>type</th>\n",
       "      <th>year</th>\n",
       "      <th>actual_floor</th>\n",
       "      <th>total_floors</th>\n",
       "    </tr>\n",
       "  </thead>\n",
       "  <tbody>\n",
       "    <tr>\n",
       "      <th>0</th>\n",
       "      <td>10500000</td>\n",
       "      <td>1</td>\n",
       "      <td>36</td>\n",
       "      <td>1</td>\n",
       "      <td>20001</td>\n",
       "      <td>15496</td>\n",
       "      <td>15455</td>\n",
       "      <td>0.0</td>\n",
       "      <td>9.0</td>\n",
       "      <td>9.0</td>\n",
       "    </tr>\n",
       "    <tr>\n",
       "      <th>1</th>\n",
       "      <td>40000000</td>\n",
       "      <td>3</td>\n",
       "      <td>70</td>\n",
       "      <td>16</td>\n",
       "      <td>20001</td>\n",
       "      <td>12</td>\n",
       "      <td>4260</td>\n",
       "      <td>2019.0</td>\n",
       "      <td>10.0</td>\n",
       "      <td>0.0</td>\n",
       "    </tr>\n",
       "    <tr>\n",
       "      <th>2</th>\n",
       "      <td>24500000</td>\n",
       "      <td>2</td>\n",
       "      <td>49</td>\n",
       "      <td>16</td>\n",
       "      <td>20001</td>\n",
       "      <td>12</td>\n",
       "      <td>4260</td>\n",
       "      <td>2019.0</td>\n",
       "      <td>2.0</td>\n",
       "      <td>10.0</td>\n",
       "    </tr>\n",
       "    <tr>\n",
       "      <th>3</th>\n",
       "      <td>22500000</td>\n",
       "      <td>2</td>\n",
       "      <td>48</td>\n",
       "      <td>16</td>\n",
       "      <td>20001</td>\n",
       "      <td>12</td>\n",
       "      <td>4260</td>\n",
       "      <td>2019.0</td>\n",
       "      <td>5.0</td>\n",
       "      <td>10.0</td>\n",
       "    </tr>\n",
       "    <tr>\n",
       "      <th>4</th>\n",
       "      <td>35500000</td>\n",
       "      <td>3</td>\n",
       "      <td>84</td>\n",
       "      <td>16</td>\n",
       "      <td>20001</td>\n",
       "      <td>12</td>\n",
       "      <td>4260</td>\n",
       "      <td>2019.0</td>\n",
       "      <td>8.0</td>\n",
       "      <td>10.0</td>\n",
       "    </tr>\n",
       "  </tbody>\n",
       "</table>\n",
       "</div>"
      ],
      "text/plain": [
       "      price  rooms  area  street   city    ZHK   type    year  actual_floor  \\\n",
       "0  10500000      1    36       1  20001  15496  15455     0.0           9.0   \n",
       "1  40000000      3    70      16  20001     12   4260  2019.0          10.0   \n",
       "2  24500000      2    49      16  20001     12   4260  2019.0           2.0   \n",
       "3  22500000      2    48      16  20001     12   4260  2019.0           5.0   \n",
       "4  35500000      3    84      16  20001     12   4260  2019.0           8.0   \n",
       "\n",
       "   total_floors  \n",
       "0           9.0  \n",
       "1           0.0  \n",
       "2          10.0  \n",
       "3          10.0  \n",
       "4          10.0  "
      ]
     },
     "execution_count": 19,
     "metadata": {},
     "output_type": "execute_result"
    }
   ],
   "source": [
    "frequency_map_ZHK = data.ZHK.value_counts().to_dict()\n",
    "frequency_map_type = data.type.value_counts().to_dict()\n",
    "frequency_map_street = data.street.value_counts().to_dict()\n",
    "frequency_map_city = data.city.value_counts().to_dict()\n",
    "\n",
    "data.ZHK = data.ZHK.map(frequency_map_ZHK)\n",
    "data.type = data.type.map(frequency_map_type)\n",
    "data.street = data.street.map(frequency_map_street)\n",
    "data.city = data.city.map(frequency_map_city)\n",
    "\n",
    "data.head()"
   ]
  },
  {
   "cell_type": "markdown",
   "metadata": {},
   "source": [
    "Now we are ready to feed these variables into our MLR model."
   ]
  },
  {
   "cell_type": "code",
   "execution_count": 20,
   "metadata": {},
   "outputs": [
    {
     "name": "stdout",
     "output_type": "stream",
     "text": [
      "Intercept:  64025777.12946288\n",
      "Slopes / coefficients of the features (b1 to b7):  [-1484.50973358  -830.75171925    12.28010083     0.        ]\n"
     ]
    }
   ],
   "source": [
    "#extract and store predictor variables and store them as Z\n",
    "\n",
    "Z = data[['ZHK','type','street','city']]\n",
    "\n",
    "#train the model\n",
    "lm.fit(Z, data['price'])\n",
    "\n",
    "#obtain preditions (array of arrays)\n",
    "Yhat = lm.predict(Z)\n",
    "\n",
    "#you can view the intercept (b0):\n",
    "print('Intercept: ', lm.intercept_)\n",
    "\n",
    "#you can view the slope array([b1, b2, b3, b4]):\n",
    "print('Slopes / coefficients of the features (b1 to b7): ', lm.coef_)"
   ]
  },
  {
   "cell_type": "code",
   "execution_count": 21,
   "metadata": {},
   "outputs": [
    {
     "data": {
      "text/plain": [
       "array([28182558.75699074, 60469157.17026399, 60469157.17026399, ...,\n",
       "       28289002.67094914, 28289002.67094914, 28289002.67094914])"
      ]
     },
     "execution_count": 21,
     "metadata": {},
     "output_type": "execute_result"
    }
   ],
   "source": [
    "Yhat"
   ]
  },
  {
   "cell_type": "markdown",
   "metadata": {},
   "source": [
    "#### The estimated linear model:\n",
    "\n",
    "**Price = **\n",
    "\n",
    "<hr>\n",
    "\n",
    "There is better of way representing model fitting results with **`statsmodels`** package.\n",
    "\n",
    "### 4.3 Linear Regression using statsmodels  <a class=\"anchor\" id=\"section_4_3\"></a>"
   ]
  },
  {
   "cell_type": "code",
   "execution_count": 22,
   "metadata": {},
   "outputs": [
    {
     "name": "stdout",
     "output_type": "stream",
     "text": [
      "                            OLS Regression Results                            \n",
      "==============================================================================\n",
      "Dep. Variable:                  price   R-squared:                       0.090\n",
      "Model:                            OLS   Adj. R-squared:                  0.090\n",
      "Method:                 Least Squares   F-statistic:                     660.3\n",
      "Date:                Fri, 16 Oct 2020   Prob (F-statistic):               0.00\n",
      "Time:                        20:36:54   Log-Likelihood:            -3.7959e+05\n",
      "No. Observations:               20001   AIC:                         7.592e+05\n",
      "Df Residuals:                   19997   BIC:                         7.592e+05\n",
      "Df Model:                           3                                         \n",
      "Covariance Type:            nonrobust                                         \n",
      "==============================================================================\n",
      "                 coef    std err          t      P>|t|      [0.025      0.975]\n",
      "------------------------------------------------------------------------------\n",
      "ZHK        -1484.5097    114.103    -13.010      0.000   -1708.161   -1260.858\n",
      "type        -830.7517    151.467     -5.485      0.000   -1127.640    -533.864\n",
      "street        12.2801     76.993      0.159      0.873    -138.632     163.193\n",
      "city        3201.1288     47.288     67.695      0.000    3108.441    3293.817\n",
      "==============================================================================\n",
      "Omnibus:                    32618.774   Durbin-Watson:                   1.063\n",
      "Prob(Omnibus):                  0.000   Jarque-Bera (JB):         32164005.356\n",
      "Skew:                          10.742   Prob(JB):                         0.00\n",
      "Kurtosis:                     198.278   Cond. No.                         17.2\n",
      "==============================================================================\n",
      "\n",
      "Warnings:\n",
      "[1] Standard Errors assume that the covariance matrix of the errors is correctly specified.\n"
     ]
    }
   ],
   "source": [
    "import statsmodels.api as sm\n",
    "\n",
    "X = data[['ZHK','type','street','city']]\n",
    "y = data['price']\n",
    "\n",
    "X = sm.add_constant(X)\n",
    "model = sm.OLS(y, X)\n",
    "\n",
    "results = model.fit()\n",
    "#results.params\n",
    "\n",
    "# Full summary report\n",
    "print(results.summary())"
   ]
  },
  {
   "cell_type": "code",
   "execution_count": 23,
   "metadata": {},
   "outputs": [
    {
     "data": {
      "text/html": [
       "<table class=\"simpletable\">\n",
       "<caption>OLS Regression Results</caption>\n",
       "<tr>\n",
       "  <th>Dep. Variable:</th>          <td>price</td>      <th>  R-squared:         </th>  <td>   0.090</td>  \n",
       "</tr>\n",
       "<tr>\n",
       "  <th>Model:</th>                   <td>OLS</td>       <th>  Adj. R-squared:    </th>  <td>   0.090</td>  \n",
       "</tr>\n",
       "<tr>\n",
       "  <th>Method:</th>             <td>Least Squares</td>  <th>  F-statistic:       </th>  <td>   660.3</td>  \n",
       "</tr>\n",
       "<tr>\n",
       "  <th>Date:</th>             <td>Fri, 16 Oct 2020</td> <th>  Prob (F-statistic):</th>   <td>  0.00</td>   \n",
       "</tr>\n",
       "<tr>\n",
       "  <th>Time:</th>                 <td>20:36:54</td>     <th>  Log-Likelihood:    </th> <td>-3.7959e+05</td>\n",
       "</tr>\n",
       "<tr>\n",
       "  <th>No. Observations:</th>      <td> 20001</td>      <th>  AIC:               </th>  <td>7.592e+05</td> \n",
       "</tr>\n",
       "<tr>\n",
       "  <th>Df Residuals:</th>          <td> 19997</td>      <th>  BIC:               </th>  <td>7.592e+05</td> \n",
       "</tr>\n",
       "<tr>\n",
       "  <th>Df Model:</th>              <td>     3</td>      <th>                     </th>      <td> </td>     \n",
       "</tr>\n",
       "<tr>\n",
       "  <th>Covariance Type:</th>      <td>nonrobust</td>    <th>                     </th>      <td> </td>     \n",
       "</tr>\n",
       "</table>\n",
       "<table class=\"simpletable\">\n",
       "<tr>\n",
       "     <td></td>       <th>coef</th>     <th>std err</th>      <th>t</th>      <th>P>|t|</th>  <th>[0.025</th>    <th>0.975]</th>  \n",
       "</tr>\n",
       "<tr>\n",
       "  <th>ZHK</th>    <td>-1484.5097</td> <td>  114.103</td> <td>  -13.010</td> <td> 0.000</td> <td>-1708.161</td> <td>-1260.858</td>\n",
       "</tr>\n",
       "<tr>\n",
       "  <th>type</th>   <td> -830.7517</td> <td>  151.467</td> <td>   -5.485</td> <td> 0.000</td> <td>-1127.640</td> <td> -533.864</td>\n",
       "</tr>\n",
       "<tr>\n",
       "  <th>street</th> <td>   12.2801</td> <td>   76.993</td> <td>    0.159</td> <td> 0.873</td> <td> -138.632</td> <td>  163.193</td>\n",
       "</tr>\n",
       "<tr>\n",
       "  <th>city</th>   <td> 3201.1288</td> <td>   47.288</td> <td>   67.695</td> <td> 0.000</td> <td> 3108.441</td> <td> 3293.817</td>\n",
       "</tr>\n",
       "</table>\n",
       "<table class=\"simpletable\">\n",
       "<tr>\n",
       "  <th>Omnibus:</th>       <td>32618.774</td> <th>  Durbin-Watson:     </th>   <td>   1.063</td>  \n",
       "</tr>\n",
       "<tr>\n",
       "  <th>Prob(Omnibus):</th>  <td> 0.000</td>   <th>  Jarque-Bera (JB):  </th> <td>32164005.356</td>\n",
       "</tr>\n",
       "<tr>\n",
       "  <th>Skew:</th>           <td>10.742</td>   <th>  Prob(JB):          </th>   <td>    0.00</td>  \n",
       "</tr>\n",
       "<tr>\n",
       "  <th>Kurtosis:</th>       <td>198.278</td>  <th>  Cond. No.          </th>   <td>    17.2</td>  \n",
       "</tr>\n",
       "</table><br/><br/>Warnings:<br/>[1] Standard Errors assume that the covariance matrix of the errors is correctly specified."
      ],
      "text/plain": [
       "<class 'statsmodels.iolib.summary.Summary'>\n",
       "\"\"\"\n",
       "                            OLS Regression Results                            \n",
       "==============================================================================\n",
       "Dep. Variable:                  price   R-squared:                       0.090\n",
       "Model:                            OLS   Adj. R-squared:                  0.090\n",
       "Method:                 Least Squares   F-statistic:                     660.3\n",
       "Date:                Fri, 16 Oct 2020   Prob (F-statistic):               0.00\n",
       "Time:                        20:36:54   Log-Likelihood:            -3.7959e+05\n",
       "No. Observations:               20001   AIC:                         7.592e+05\n",
       "Df Residuals:                   19997   BIC:                         7.592e+05\n",
       "Df Model:                           3                                         \n",
       "Covariance Type:            nonrobust                                         \n",
       "==============================================================================\n",
       "                 coef    std err          t      P>|t|      [0.025      0.975]\n",
       "------------------------------------------------------------------------------\n",
       "ZHK        -1484.5097    114.103    -13.010      0.000   -1708.161   -1260.858\n",
       "type        -830.7517    151.467     -5.485      0.000   -1127.640    -533.864\n",
       "street        12.2801     76.993      0.159      0.873    -138.632     163.193\n",
       "city        3201.1288     47.288     67.695      0.000    3108.441    3293.817\n",
       "==============================================================================\n",
       "Omnibus:                    32618.774   Durbin-Watson:                   1.063\n",
       "Prob(Omnibus):                  0.000   Jarque-Bera (JB):         32164005.356\n",
       "Skew:                          10.742   Prob(JB):                         0.00\n",
       "Kurtosis:                     198.278   Cond. No.                         17.2\n",
       "==============================================================================\n",
       "\n",
       "Warnings:\n",
       "[1] Standard Errors assume that the covariance matrix of the errors is correctly specified.\n",
       "\"\"\""
      ]
     },
     "execution_count": 23,
     "metadata": {},
     "output_type": "execute_result"
    }
   ],
   "source": [
    "results.summary()"
   ]
  },
  {
   "cell_type": "markdown",
   "metadata": {},
   "source": [
    "## 5 Model Evaluation with Visualization <a class=\"anchor\" id=\"chapter5\"></a>\n",
    "\n",
    "### 5.1 Regression Plot <a class=\"anchor\" id=\"section_5_1\"></a>\n",
    "\n",
    "Regression plots are a good estimate of the relationship between two variables, the strength of the correlation, and the direction of the relationship (positive or negative). The horizontal axis is the independent variable. The vertical axis is the dependent variable. Each point represents a different target point. The fitted line represents the predicted value."
   ]
  },
  {
   "cell_type": "code",
   "execution_count": 24,
   "metadata": {},
   "outputs": [
    {
     "data": {
      "text/plain": [
       "(0.0, 1355331656.087288)"
      ]
     },
     "execution_count": 24,
     "metadata": {},
     "output_type": "execute_result"
    },
    {
     "data": {
      "image/png": "[encoded data removed]",
      "text/plain": [
       "<Figure size 432x288 with 1 Axes>"
      ]
     },
     "metadata": {
      "needs_background": "light"
     },
     "output_type": "display_data"
    }
   ],
   "source": [
    "sns.regplot(x='area', y='price', data=data)\n",
    "plt.ylim(0,)"
   ]
  },
  {
   "cell_type": "markdown",
   "metadata": {},
   "source": [
    "### 5.2 Resdiual Plot <a class=\"anchor\" id=\"section_5_2\"></a>\n",
    "The residual plot represents the error between the actual value. Examining the predicted value and actual value we see a difference. We obtain that value by subtracting the predicted value, and the actual target value. We then plot that value on the vertical axis with the independent variable as the horizontal axis. Similarly, for the second sample, we repeat the process. Subtracting the target value from the predicted value. Then plotting the value accordingly. Looking at the plot gives us some insight into our data. We expect to see the results to have zero mean, distributed evenly around the x axis with similar variance. There is no curvature. This type of residual plot suggests a linear plot is appropriate."
   ]
  },
  {
   "cell_type": "code",
   "execution_count": 25,
   "metadata": {},
   "outputs": [
    {
     "data": {
      "text/plain": [
       "<matplotlib.axes._subplots.AxesSubplot at 0x7f2d34b2c3d0>"
      ]
     },
     "execution_count": 25,
     "metadata": {},
     "output_type": "execute_result"
    },
    {
     "data": {
      "image/png": "[encoded data removed]",
      "text/plain": [
       "<Figure size 432x288 with 1 Axes>"
      ]
     },
     "metadata": {
      "needs_background": "light"
     },
     "output_type": "display_data"
    }
   ],
   "source": [
    "sns.residplot(data['year'], data['price'])"
   ]
  },
  {
   "cell_type": "markdown",
   "metadata": {},
   "source": [
    "### 5.3 Distribution Plot <a class=\"anchor\" id=\"section_3_3\"></a>\n",
    "A distribution plot counts the predicted value versus the actual value. These plots are extremely useful for visualizing models with more than one independent variable or feature."
   ]
  },
  {
   "cell_type": "code",
   "execution_count": 26,
   "metadata": {},
   "outputs": [
    {
     "data": {
      "text/plain": [
       "<matplotlib.axes._subplots.AxesSubplot at 0x7f2d34a93a90>"
      ]
     },
     "execution_count": 26,
     "metadata": {},
     "output_type": "execute_result"
    },
    {
     "data": {
      "image/png": "[encoded data removed]",
      "text/plain": [
       "<Figure size 432x288 with 1 Axes>"
      ]
     },
     "metadata": {
      "needs_background": "light"
     },
     "output_type": "display_data"
    }
   ],
   "source": [
    "ax1 = sns.distplot(data['price'], hist=False, color='r', label='Actual value')\n",
    "sns.distplot(Yhat, hist=False, color='b', label='Fitted values', ax=ax1)"
   ]
  },
  {
   "cell_type": "code",
   "execution_count": null,
   "metadata": {},
   "outputs": [],
   "source": []
  }
 ],
 "metadata": {
  "kernelspec": {
   "display_name": "Python 3",
   "language": "python",
   "name": "python3"
  },
  "language_info": {
   "codemirror_mode": {
    "name": "ipython",
    "version": 3
   },
   "file_extension": ".py",
   "mimetype": "text/x-python",
   "name": "python",
   "nbconvert_exporter": "python",
   "pygments_lexer": "ipython3",
   "version": "3.8.3"
  }
 },
 "nbformat": 4,
 "nbformat_minor": 4
}
